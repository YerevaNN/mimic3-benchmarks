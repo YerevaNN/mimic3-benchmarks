{
 "cells": [
  {
   "cell_type": "code",
   "execution_count": 179,
   "metadata": {
    "collapsed": true
   },
   "outputs": [],
   "source": [
    "import os\n",
    "import re\n",
    "\n",
    "import numpy as np\n",
    "import pandas as pd\n",
    "import seaborn as sns\n",
    "import plotly.graph_objects as go\n",
    "import plotly.offline as pyo\n",
    "import matplotlib.pyplot as plt\n",
    "from aif360.datasets import StandardDataset\n",
    "from aif360.metrics import BinaryLabelDatasetMetric\n",
    "\n",
    "sns.set(font_scale = 1.5)\n",
    "\n",
    "task = 'in-hospital-mortality'\n",
    "mimic3_path = os.path.join(os.path.normpath(os.getcwd() + os.sep + os.pardir), 'data')"
   ]
  },
  {
   "cell_type": "markdown",
   "source": [],
   "metadata": {
    "collapsed": false
   }
  },
  {
   "cell_type": "code",
   "execution_count": 156,
   "outputs": [],
   "source": [
    "FRIENDLY_LABELS = {\n",
    "    \"GENDER\": {0: \"Female\", 1: \"Male\"}, # 0: female, 1: male\n",
    "    \"ETHNICITY\": {0: \"Non-white\", 1: \"White\"}, # 0: mon-white, 1: white\n",
    "    \"LANGUAGE\": {0: \"Non-English\", 1: \"English\"},  # 0 non-english speakers, 1: english speakers\n",
    "    \"INSURANCE\": {0: \"Uninsured\", 1: \"Insured\"},  # 0: public or no insurance, 1: private insurance\n",
    "    \"RELIGION\": {0: \"Non-christian\", 1: \"Christian\"},  # 0: non-christian, 1: christian\n",
    "    \"AGE\": {0: \"65+\", 1: \"<65\"}  # 0: 65+, 1: <65\n",
    "}"
   ],
   "metadata": {
    "collapsed": false
   }
  },
  {
   "cell_type": "code",
   "execution_count": 157,
   "outputs": [
    {
     "name": "stdout",
     "output_type": "stream",
     "text": [
      "Train rows: 14681 - Validation rows: 3222 - Test rows: 3236\n"
     ]
    }
   ],
   "source": [
    "train = pd.read_csv(os.path.join(mimic3_path, task, 'train_listfile.csv'))\n",
    "test = pd.read_csv(os.path.join(mimic3_path, task, 'test_listfile.csv'))\n",
    "val = pd.read_csv(os.path.join(mimic3_path, task, 'val_listfile.csv'))\n",
    "print(\"Train rows: {} - Validation rows: {} - Test rows: {}\".format(train.shape[0], val.shape[0], test.shape[0]))"
   ],
   "metadata": {
    "collapsed": false
   }
  },
  {
   "cell_type": "code",
   "execution_count": 158,
   "outputs": [
    {
     "name": "stdout",
     "output_type": "stream",
     "text": [
      "Total rows: 21139\n",
      "                             stay  y_true\n",
      "0   12797_episode1_timeseries.csv       0\n",
      "1    9027_episode1_timeseries.csv       0\n",
      "2   40386_episode1_timeseries.csv       0\n",
      "3   48770_episode1_timeseries.csv       0\n",
      "4   14037_episode1_timeseries.csv       0\n",
      "5   15656_episode1_timeseries.csv       1\n",
      "6   83338_episode1_timeseries.csv       1\n",
      "7   21827_episode2_timeseries.csv       0\n",
      "8   20226_episode1_timeseries.csv       0\n",
      "9   26578_episode1_timeseries.csv       1\n",
      "10   9200_episode1_timeseries.csv       1\n",
      "11  15881_episode1_timeseries.csv       0\n",
      "12  59005_episode1_timeseries.csv       0\n",
      "13  14276_episode1_timeseries.csv       1\n",
      "14  81660_episode1_timeseries.csv       0\n",
      "15  28279_episode1_timeseries.csv       0\n",
      "16  15259_episode1_timeseries.csv       1\n",
      "17  24133_episode1_timeseries.csv       0\n",
      "18  92525_episode1_timeseries.csv       0\n",
      "19  28068_episode1_timeseries.csv       0\n",
      "20  72540_episode1_timeseries.csv       0\n",
      "21  53534_episode1_timeseries.csv       0\n",
      "22   1313_episode1_timeseries.csv       0\n",
      "23   6630_episode2_timeseries.csv       0\n",
      "24  22269_episode1_timeseries.csv       0\n",
      "25  11512_episode1_timeseries.csv       0\n",
      "26  22384_episode1_timeseries.csv       0\n",
      "27   6699_episode1_timeseries.csv       0\n",
      "28  78934_episode1_timeseries.csv       0\n",
      "29  16522_episode1_timeseries.csv       0\n",
      "..                            ...     ...\n",
      "70   3340_episode1_timeseries.csv       1\n",
      "71  14662_episode1_timeseries.csv       0\n",
      "72  68863_episode1_timeseries.csv       0\n",
      "73    450_episode2_timeseries.csv       1\n",
      "74  28654_episode1_timeseries.csv       0\n",
      "75  31529_episode1_timeseries.csv       0\n",
      "76  20432_episode1_timeseries.csv       0\n",
      "77  20577_episode3_timeseries.csv       0\n",
      "78  52974_episode1_timeseries.csv       0\n",
      "79  78447_episode1_timeseries.csv       1\n",
      "80  75544_episode1_timeseries.csv       1\n",
      "81  27135_episode1_timeseries.csv       0\n",
      "82  27397_episode1_timeseries.csv       0\n",
      "83  14269_episode4_timeseries.csv       0\n",
      "84  96928_episode1_timeseries.csv       0\n",
      "85  29967_episode1_timeseries.csv       0\n",
      "86  16709_episode1_timeseries.csv       0\n",
      "87  91601_episode1_timeseries.csv       0\n",
      "88   9822_episode1_timeseries.csv       0\n",
      "89  22624_episode8_timeseries.csv       0\n",
      "90   3040_episode1_timeseries.csv       0\n",
      "91  19851_episode4_timeseries.csv       0\n",
      "92  30964_episode1_timeseries.csv       0\n",
      "93  95235_episode1_timeseries.csv       0\n",
      "94  62009_episode1_timeseries.csv       0\n",
      "95   7158_episode1_timeseries.csv       0\n",
      "96  29457_episode1_timeseries.csv       0\n",
      "97  26754_episode1_timeseries.csv       0\n",
      "98  32263_episode1_timeseries.csv       0\n",
      "99  15122_episode2_timeseries.csv       0\n",
      "\n",
      "[100 rows x 2 columns]\n"
     ]
    }
   ],
   "source": [
    "df = pd.concat([train, test, val])\n",
    "print(\"Total rows: {}\".format(df.shape[0]))\n",
    "print(df.head(100))"
   ],
   "metadata": {
    "collapsed": false
   }
  },
  {
   "cell_type": "code",
   "execution_count": 159,
   "outputs": [
    {
     "name": "stdout",
     "output_type": "stream",
     "text": [
      "    y_true  SUBJECT_ID\n",
      "0        0       12797\n",
      "1        0        9027\n",
      "2        0       40386\n",
      "3        0       48770\n",
      "4        0       14037\n",
      "5        1       15656\n",
      "6        1       83338\n",
      "7        0       21827\n",
      "8        0       20226\n",
      "9        1       26578\n",
      "10       1        9200\n",
      "11       0       15881\n",
      "12       0       59005\n",
      "13       1       14276\n",
      "14       0       81660\n",
      "15       0       28279\n",
      "16       1       15259\n",
      "17       0       24133\n",
      "18       0       92525\n",
      "19       0       28068\n",
      "20       0       72540\n",
      "21       0       53534\n",
      "22       0        1313\n",
      "23       0        6630\n",
      "24       0       22269\n",
      "25       0       11512\n",
      "26       0       22384\n",
      "27       0        6699\n",
      "28       0       78934\n",
      "29       0       16522\n",
      "..     ...         ...\n",
      "70       1        3340\n",
      "71       0       14662\n",
      "72       0       68863\n",
      "73       1         450\n",
      "74       0       28654\n",
      "75       0       31529\n",
      "76       0       20432\n",
      "77       0       20577\n",
      "78       0       52974\n",
      "79       1       78447\n",
      "80       1       75544\n",
      "81       0       27135\n",
      "82       0       27397\n",
      "83       0       14269\n",
      "84       0       96928\n",
      "85       0       29967\n",
      "86       0       16709\n",
      "87       0       91601\n",
      "88       0        9822\n",
      "89       0       22624\n",
      "90       0        3040\n",
      "91       0       19851\n",
      "92       0       30964\n",
      "93       0       95235\n",
      "94       0       62009\n",
      "95       0        7158\n",
      "96       0       29457\n",
      "97       0       26754\n",
      "98       0       32263\n",
      "99       0       15122\n",
      "\n",
      "[100 rows x 2 columns]\n"
     ]
    }
   ],
   "source": [
    "# extract subject_id from stay\n",
    "regex = r\"(?:^\\d+)\"\n",
    "df.loc[:, \"SUBJECT_ID\"] = df.stay.apply(lambda stay: re.search(regex, stay).group(0))\n",
    "df.SUBJECT_ID = df.SUBJECT_ID.astype(int)\n",
    "df.drop(['stay'], axis=1, inplace=True)\n",
    "print(df.head(100))"
   ],
   "metadata": {
    "collapsed": false
   }
  },
  {
   "cell_type": "code",
   "execution_count": 160,
   "outputs": [
    {
     "name": "stdout",
     "output_type": "stream",
     "text": [
      "Total rows after merging: 21139\n",
      "    y_true  SUBJECT_ID  LANGUAGE  INSURANCE  RELIGION  ETHNICITY  GENDER  AGE\n",
      "0        0       12797         1          1         0          1       0    0\n",
      "1        0        9027         1          1         1          0       1    1\n",
      "2        0       40386         1          1         1          1       0    0\n",
      "3        0       48770         1          0         1          1       1    1\n",
      "4        0       14037         1          1         1          1       1    1\n",
      "5        1       15656         1          1         1          1       0    0\n",
      "6        1       83338         1          1         1          1       0    0\n",
      "7        0       21827         1          1         1          0       1    0\n",
      "8        0       21827         1          1         1          0       1    0\n",
      "9        0       20226         1          1         1          1       0    0\n",
      "10       1       26578         1          1         1          1       1    0\n",
      "11       1        9200         1          1         1          1       1    0\n",
      "12       0       15881         1          1         0          1       0    1\n",
      "13       0       59005         1          1         0          1       1    1\n",
      "14       1       14276         1          1         1          1       1    1\n",
      "15       0       81660         1          1         1          1       0    1\n",
      "16       0       81660         1          1         1          1       0    1\n",
      "17       0       81660         1          1         1          1       0    1\n",
      "18       0       28279         1          1         1          1       1    1\n",
      "19       1       15259         1          1         0          1       1    0\n",
      "20       0       24133         0          1         0          1       0    0\n",
      "21       0       92525         1          1         1          1       1    1\n",
      "22       0       92525         1          1         1          1       1    1\n",
      "23       0       28068         0          1         1          0       1    0\n",
      "24       0       72540         1          1         0          1       1    0\n",
      "25       0       53534         1          1         1          1       1    0\n",
      "26       0       53534         1          1         1          1       1    0\n",
      "27       1       53534         1          1         1          1       1    0\n",
      "28       0        1313         1          1         1          1       1    0\n",
      "29       0        1313         1          1         1          1       1    0\n",
      "..     ...         ...       ...        ...       ...        ...     ...  ...\n",
      "70       1       46815         1          1         1          1       1    1\n",
      "71       0       11123         1          1         1          1       0    0\n",
      "72       0       11123         1          1         1          1       0    0\n",
      "73       0        2569         1          1         0          0       0    1\n",
      "74       0        8296         1          1         1          1       0    0\n",
      "75       0        8296         1          1         1          1       0    0\n",
      "76       0       96104         1          1         1          1       0    0\n",
      "77       1       10111         1          1         1          0       0    0\n",
      "78       0       71377         0          1         1          0       0    0\n",
      "79       0       71377         0          1         1          0       0    0\n",
      "80       0       71377         0          1         1          0       0    0\n",
      "81       0        1301         1          1         1          1       0    1\n",
      "82       0       26379         1          1         1          1       1    0\n",
      "83       1        8410         1          1         1          0       0    0\n",
      "84       0       23825         1          1         1          1       0    0\n",
      "85       1       73832         1          1         1          1       0    0\n",
      "86       1        8173         1          1         0          0       1    0\n",
      "87       0       14042         1          1         1          0       0    0\n",
      "88       0       27090         1          1         1          1       0    0\n",
      "89       0       95076         1          1         1          0       0    0\n",
      "90       1       95076         1          1         1          0       0    0\n",
      "91       0        4690         1          1         1          1       0    1\n",
      "92       0       10502         1          1         0          1       0    0\n",
      "93       0       10502         1          1         0          1       0    0\n",
      "94       0       10502         1          1         0          1       0    0\n",
      "95       0       16821         1          1         0          1       0    0\n",
      "96       0       16821         1          1         0          1       0    0\n",
      "97       0       95100         1          1         1          0       0    0\n",
      "98       0       95100         1          1         1          0       0    0\n",
      "99       0       19722         1          1         0          1       0    1\n",
      "\n",
      "[100 rows x 8 columns]\n"
     ]
    }
   ],
   "source": [
    "# join with demographics\n",
    "demographics = pd.read_csv(os.path.join(mimic3_path, 'DEMOGRAPHICS.csv'))\n",
    "df = df.merge(demographics, how='inner', on='SUBJECT_ID')\n",
    "print(\"Total rows after merging: {}\".format(df.shape[0]))\n",
    "print(df.head(100))"
   ],
   "metadata": {
    "collapsed": false
   }
  },
  {
   "cell_type": "markdown",
   "source": [
    "## Is the dataset sample representative of the real-world population?"
   ],
   "metadata": {
    "collapsed": false
   }
  },
  {
   "cell_type": "code",
   "execution_count": 161,
   "outputs": [],
   "source": [
    "# real population distributions in 2016 (MIMIC-III release year) in the USA based on wikipedia as of 10/01/2022\n",
    "# 1 privileged class - 0 unprivileged class\n",
    "REAL_DISTRIBUTIONS = {\n",
    "    \"GENDER\": {0: 50.5, 1: 49.5}, # 0: female, 1: male\n",
    "    \"ETHNICITY\": {0: 42.2, 1: 61.27}, # 0: mon-white, 1: white (https://www.statista.com/statistics/270272/percentage-of-us-population-by-ethnicities/)\n",
    "    \"LANGUAGE\": {0: 21.8, 1: 78.2},  # 0 non-english speakers, 1: english speakers (https://en.wikipedia.org/wiki/Languages_of_the_United_States)\n",
    "    \"INSURANCE\": {0: 8.8, 1: 91.2},  # 0: public or no insurance, 1: private insurance (https://www.census.gov/content/dam/Census/library/publications/2017/demo/p60-260.pdf)\n",
    "    \"RELIGION\": {0: 26.3, 1: 73.7},  # 0: non-christian, 1: christian (https://www.prri.org/research/american-religious-landscape-christian-religiously-unaffiliated/)\n",
    "    \"AGE\": {0: 16.9, 1: 59.6}  # 0: 65+, 1: <65\n",
    "}"
   ],
   "metadata": {
    "collapsed": false
   }
  },
  {
   "cell_type": "code",
   "execution_count": 162,
   "outputs": [
    {
     "name": "stdout",
     "output_type": "stream",
     "text": [
      "{'GENDER': {0: 9510, 1: 11629}, 'ETHNICITY': {0: 6134, 1: 15005}, 'LANGUAGE': {0: 1829, 1: 19310}, 'INSURANCE': {0: 182, 1: 20957}, 'RELIGION': {0: 3230, 1: 17909}, 'AGE': {0: 11588, 1: 9551}}\n"
     ]
    }
   ],
   "source": [
    "# calculate dataset distributions\n",
    "dataset_distributions = {\n",
    "    \"GENDER\": {0: np.NaN, 1: np.NaN}, # 0: female, 1: male\n",
    "    \"ETHNICITY\": {0: np.NaN, 1: np.NaN}, # 0: mon-white, 1: white\n",
    "    \"LANGUAGE\": {0: np.NaN, 1: np.NaN},  # 0 non-english speakers, 1: english speakers\n",
    "    \"INSURANCE\": {0: np.NaN, 1: np.NaN},  # 0: public or no insurance, 1: private insurance\n",
    "    \"RELIGION\": {0: np.NaN, 1: np.NaN},  # 0: non-christian, 1: christian\n",
    "    \"AGE\": {0: np.NaN, 1: np.NaN}  # 0: 65+, 1: <65\n",
    "}\n",
    "\n",
    "for attribute in REAL_DISTRIBUTIONS:\n",
    "    counts = df[attribute].value_counts()\n",
    "    dataset_distributions.get(attribute).update(counts)\n",
    "\n",
    "print(dataset_distributions)"
   ],
   "metadata": {
    "collapsed": false
   }
  },
  {
   "cell_type": "code",
   "execution_count": 163,
   "outputs": [
    {
     "data": {
      "text/plain": "   attribute  real_ratio  dataset_ratio\n0     GENDER    1.020202       0.817783\n1  ETHNICITY    0.688755       0.408797\n2   LANGUAGE    0.278772       0.094718\n3  INSURANCE    0.096491       0.008684\n4   RELIGION    0.356852       0.180356\n5        AGE    0.283557       1.213276",
      "text/html": "<div>\n<style scoped>\n    .dataframe tbody tr th:only-of-type {\n        vertical-align: middle;\n    }\n\n    .dataframe tbody tr th {\n        vertical-align: top;\n    }\n\n    .dataframe thead th {\n        text-align: right;\n    }\n</style>\n<table border=\"1\" class=\"dataframe\">\n  <thead>\n    <tr style=\"text-align: right;\">\n      <th></th>\n      <th>attribute</th>\n      <th>real_ratio</th>\n      <th>dataset_ratio</th>\n    </tr>\n  </thead>\n  <tbody>\n    <tr>\n      <th>0</th>\n      <td>GENDER</td>\n      <td>1.020202</td>\n      <td>0.817783</td>\n    </tr>\n    <tr>\n      <th>1</th>\n      <td>ETHNICITY</td>\n      <td>0.688755</td>\n      <td>0.408797</td>\n    </tr>\n    <tr>\n      <th>2</th>\n      <td>LANGUAGE</td>\n      <td>0.278772</td>\n      <td>0.094718</td>\n    </tr>\n    <tr>\n      <th>3</th>\n      <td>INSURANCE</td>\n      <td>0.096491</td>\n      <td>0.008684</td>\n    </tr>\n    <tr>\n      <th>4</th>\n      <td>RELIGION</td>\n      <td>0.356852</td>\n      <td>0.180356</td>\n    </tr>\n    <tr>\n      <th>5</th>\n      <td>AGE</td>\n      <td>0.283557</td>\n      <td>1.213276</td>\n    </tr>\n  </tbody>\n</table>\n</div>"
     },
     "execution_count": 163,
     "metadata": {},
     "output_type": "execute_result"
    }
   ],
   "source": [
    "real_ratios = []\n",
    "dataset_ratios = []\n",
    "ratios = pd.DataFrame(columns=['attribute', 'real_ratio', 'dataset_ratio'])\n",
    "for attr in REAL_DISTRIBUTIONS.keys():\n",
    "    attr_ratio = list(REAL_DISTRIBUTIONS.get(attr).values())[0] / list(REAL_DISTRIBUTIONS.get(attr).values())[1]\n",
    "    dataset_ratio = list(dataset_distributions.get(attr).values())[0] / \\\n",
    "                        list(dataset_distributions.get(attr).values())[1]\n",
    "\n",
    "    real_ratios.append(attr_ratio)\n",
    "    dataset_ratios.append(dataset_ratio)\n",
    "\n",
    "ratios[\"attribute\"] = REAL_DISTRIBUTIONS.keys()\n",
    "ratios[\"real_ratio\"] = real_ratios\n",
    "ratios[\"dataset_ratio\"] = dataset_ratios\n",
    "ratios.head(10)"
   ],
   "metadata": {
    "collapsed": false
   }
  },
  {
   "cell_type": "code",
   "execution_count": 164,
   "outputs": [
    {
     "data": {
      "application/vnd.plotly.v1+json": {
       "data": [
        {
         "line": {
          "color": "#e72a8a"
         },
         "name": "Real Ratios",
         "r": [
          1.02020202020202,
          0.6887546923453566,
          0.27877237851662406,
          0.09649122807017545,
          0.3568521031207598,
          0.2835570469798657,
          1.02020202020202
         ],
         "theta": [
          "GENDER",
          "ETHNICITY",
          "LANGUAGE",
          "INSURANCE",
          "RELIGION",
          "AGE",
          "GENDER"
         ],
         "type": "scatterpolar"
        },
        {
         "line": {
          "color": "#1c9e77"
         },
         "name": "Dataset Ratios",
         "r": [
          0.8177831283859317,
          0.4087970676441186,
          0.09471776281719316,
          0.00868444911008255,
          0.18035624546317494,
          1.2132760967437966,
          0.8177831283859317
         ],
         "theta": [
          "GENDER",
          "ETHNICITY",
          "LANGUAGE",
          "INSURANCE",
          "RELIGION",
          "AGE",
          "GENDER"
         ],
         "type": "scatterpolar"
        }
       ],
       "layout": {
        "margin": {
         "b": 0,
         "l": 0,
         "r": 0,
         "t": 70
        },
        "polar": {
         "radialaxis": {
          "visible": true
         }
        },
        "showlegend": true,
        "template": {
         "data": {
          "barpolar": [
           {
            "marker": {
             "line": {
              "color": "rgb(234,234,242)",
              "width": 0.5
             },
             "pattern": {
              "fillmode": "overlay",
              "size": 10,
              "solidity": 0.2
             }
            },
            "type": "barpolar"
           }
          ],
          "bar": [
           {
            "error_x": {
             "color": "rgb(36,36,36)"
            },
            "error_y": {
             "color": "rgb(36,36,36)"
            },
            "marker": {
             "line": {
              "color": "rgb(234,234,242)",
              "width": 0.5
             },
             "pattern": {
              "fillmode": "overlay",
              "size": 10,
              "solidity": 0.2
             }
            },
            "type": "bar"
           }
          ],
          "carpet": [
           {
            "aaxis": {
             "endlinecolor": "rgb(36,36,36)",
             "gridcolor": "white",
             "linecolor": "white",
             "minorgridcolor": "white",
             "startlinecolor": "rgb(36,36,36)"
            },
            "baxis": {
             "endlinecolor": "rgb(36,36,36)",
             "gridcolor": "white",
             "linecolor": "white",
             "minorgridcolor": "white",
             "startlinecolor": "rgb(36,36,36)"
            },
            "type": "carpet"
           }
          ],
          "choropleth": [
           {
            "colorbar": {
             "outlinewidth": 0,
             "tickcolor": "rgb(36,36,36)",
             "ticklen": 8,
             "ticks": "outside",
             "tickwidth": 2
            },
            "type": "choropleth"
           }
          ],
          "contourcarpet": [
           {
            "colorbar": {
             "outlinewidth": 0,
             "tickcolor": "rgb(36,36,36)",
             "ticklen": 8,
             "ticks": "outside",
             "tickwidth": 2
            },
            "type": "contourcarpet"
           }
          ],
          "contour": [
           {
            "colorbar": {
             "outlinewidth": 0,
             "tickcolor": "rgb(36,36,36)",
             "ticklen": 8,
             "ticks": "outside",
             "tickwidth": 2
            },
            "colorscale": [
             [
              0.0,
              "rgb(2,4,25)"
             ],
             [
              0.06274509803921569,
              "rgb(24,15,41)"
             ],
             [
              0.12549019607843137,
              "rgb(47,23,57)"
             ],
             [
              0.18823529411764706,
              "rgb(71,28,72)"
             ],
             [
              0.25098039215686274,
              "rgb(97,30,82)"
             ],
             [
              0.3137254901960784,
              "rgb(123,30,89)"
             ],
             [
              0.3764705882352941,
              "rgb(150,27,91)"
             ],
             [
              0.4392156862745098,
              "rgb(177,22,88)"
             ],
             [
              0.5019607843137255,
              "rgb(203,26,79)"
             ],
             [
              0.5647058823529412,
              "rgb(223,47,67)"
             ],
             [
              0.6274509803921569,
              "rgb(236,76,61)"
             ],
             [
              0.6901960784313725,
              "rgb(242,107,73)"
             ],
             [
              0.7529411764705882,
              "rgb(244,135,95)"
             ],
             [
              0.8156862745098039,
              "rgb(245,162,122)"
             ],
             [
              0.8784313725490196,
              "rgb(246,188,153)"
             ],
             [
              0.9411764705882353,
              "rgb(247,212,187)"
             ],
             [
              1.0,
              "rgb(250,234,220)"
             ]
            ],
            "type": "contour"
           }
          ],
          "heatmapgl": [
           {
            "colorbar": {
             "outlinewidth": 0,
             "tickcolor": "rgb(36,36,36)",
             "ticklen": 8,
             "ticks": "outside",
             "tickwidth": 2
            },
            "colorscale": [
             [
              0.0,
              "rgb(2,4,25)"
             ],
             [
              0.06274509803921569,
              "rgb(24,15,41)"
             ],
             [
              0.12549019607843137,
              "rgb(47,23,57)"
             ],
             [
              0.18823529411764706,
              "rgb(71,28,72)"
             ],
             [
              0.25098039215686274,
              "rgb(97,30,82)"
             ],
             [
              0.3137254901960784,
              "rgb(123,30,89)"
             ],
             [
              0.3764705882352941,
              "rgb(150,27,91)"
             ],
             [
              0.4392156862745098,
              "rgb(177,22,88)"
             ],
             [
              0.5019607843137255,
              "rgb(203,26,79)"
             ],
             [
              0.5647058823529412,
              "rgb(223,47,67)"
             ],
             [
              0.6274509803921569,
              "rgb(236,76,61)"
             ],
             [
              0.6901960784313725,
              "rgb(242,107,73)"
             ],
             [
              0.7529411764705882,
              "rgb(244,135,95)"
             ],
             [
              0.8156862745098039,
              "rgb(245,162,122)"
             ],
             [
              0.8784313725490196,
              "rgb(246,188,153)"
             ],
             [
              0.9411764705882353,
              "rgb(247,212,187)"
             ],
             [
              1.0,
              "rgb(250,234,220)"
             ]
            ],
            "type": "heatmapgl"
           }
          ],
          "heatmap": [
           {
            "colorbar": {
             "outlinewidth": 0,
             "tickcolor": "rgb(36,36,36)",
             "ticklen": 8,
             "ticks": "outside",
             "tickwidth": 2
            },
            "colorscale": [
             [
              0.0,
              "rgb(2,4,25)"
             ],
             [
              0.06274509803921569,
              "rgb(24,15,41)"
             ],
             [
              0.12549019607843137,
              "rgb(47,23,57)"
             ],
             [
              0.18823529411764706,
              "rgb(71,28,72)"
             ],
             [
              0.25098039215686274,
              "rgb(97,30,82)"
             ],
             [
              0.3137254901960784,
              "rgb(123,30,89)"
             ],
             [
              0.3764705882352941,
              "rgb(150,27,91)"
             ],
             [
              0.4392156862745098,
              "rgb(177,22,88)"
             ],
             [
              0.5019607843137255,
              "rgb(203,26,79)"
             ],
             [
              0.5647058823529412,
              "rgb(223,47,67)"
             ],
             [
              0.6274509803921569,
              "rgb(236,76,61)"
             ],
             [
              0.6901960784313725,
              "rgb(242,107,73)"
             ],
             [
              0.7529411764705882,
              "rgb(244,135,95)"
             ],
             [
              0.8156862745098039,
              "rgb(245,162,122)"
             ],
             [
              0.8784313725490196,
              "rgb(246,188,153)"
             ],
             [
              0.9411764705882353,
              "rgb(247,212,187)"
             ],
             [
              1.0,
              "rgb(250,234,220)"
             ]
            ],
            "type": "heatmap"
           }
          ],
          "histogram2dcontour": [
           {
            "colorbar": {
             "outlinewidth": 0,
             "tickcolor": "rgb(36,36,36)",
             "ticklen": 8,
             "ticks": "outside",
             "tickwidth": 2
            },
            "colorscale": [
             [
              0.0,
              "rgb(2,4,25)"
             ],
             [
              0.06274509803921569,
              "rgb(24,15,41)"
             ],
             [
              0.12549019607843137,
              "rgb(47,23,57)"
             ],
             [
              0.18823529411764706,
              "rgb(71,28,72)"
             ],
             [
              0.25098039215686274,
              "rgb(97,30,82)"
             ],
             [
              0.3137254901960784,
              "rgb(123,30,89)"
             ],
             [
              0.3764705882352941,
              "rgb(150,27,91)"
             ],
             [
              0.4392156862745098,
              "rgb(177,22,88)"
             ],
             [
              0.5019607843137255,
              "rgb(203,26,79)"
             ],
             [
              0.5647058823529412,
              "rgb(223,47,67)"
             ],
             [
              0.6274509803921569,
              "rgb(236,76,61)"
             ],
             [
              0.6901960784313725,
              "rgb(242,107,73)"
             ],
             [
              0.7529411764705882,
              "rgb(244,135,95)"
             ],
             [
              0.8156862745098039,
              "rgb(245,162,122)"
             ],
             [
              0.8784313725490196,
              "rgb(246,188,153)"
             ],
             [
              0.9411764705882353,
              "rgb(247,212,187)"
             ],
             [
              1.0,
              "rgb(250,234,220)"
             ]
            ],
            "type": "histogram2dcontour"
           }
          ],
          "histogram2d": [
           {
            "colorbar": {
             "outlinewidth": 0,
             "tickcolor": "rgb(36,36,36)",
             "ticklen": 8,
             "ticks": "outside",
             "tickwidth": 2
            },
            "colorscale": [
             [
              0.0,
              "rgb(2,4,25)"
             ],
             [
              0.06274509803921569,
              "rgb(24,15,41)"
             ],
             [
              0.12549019607843137,
              "rgb(47,23,57)"
             ],
             [
              0.18823529411764706,
              "rgb(71,28,72)"
             ],
             [
              0.25098039215686274,
              "rgb(97,30,82)"
             ],
             [
              0.3137254901960784,
              "rgb(123,30,89)"
             ],
             [
              0.3764705882352941,
              "rgb(150,27,91)"
             ],
             [
              0.4392156862745098,
              "rgb(177,22,88)"
             ],
             [
              0.5019607843137255,
              "rgb(203,26,79)"
             ],
             [
              0.5647058823529412,
              "rgb(223,47,67)"
             ],
             [
              0.6274509803921569,
              "rgb(236,76,61)"
             ],
             [
              0.6901960784313725,
              "rgb(242,107,73)"
             ],
             [
              0.7529411764705882,
              "rgb(244,135,95)"
             ],
             [
              0.8156862745098039,
              "rgb(245,162,122)"
             ],
             [
              0.8784313725490196,
              "rgb(246,188,153)"
             ],
             [
              0.9411764705882353,
              "rgb(247,212,187)"
             ],
             [
              1.0,
              "rgb(250,234,220)"
             ]
            ],
            "type": "histogram2d"
           }
          ],
          "histogram": [
           {
            "marker": {
             "pattern": {
              "fillmode": "overlay",
              "size": 10,
              "solidity": 0.2
             }
            },
            "type": "histogram"
           }
          ],
          "mesh3d": [
           {
            "colorbar": {
             "outlinewidth": 0,
             "tickcolor": "rgb(36,36,36)",
             "ticklen": 8,
             "ticks": "outside",
             "tickwidth": 2
            },
            "type": "mesh3d"
           }
          ],
          "parcoords": [
           {
            "line": {
             "colorbar": {
              "outlinewidth": 0,
              "tickcolor": "rgb(36,36,36)",
              "ticklen": 8,
              "ticks": "outside",
              "tickwidth": 2
             }
            },
            "type": "parcoords"
           }
          ],
          "pie": [
           {
            "automargin": true,
            "type": "pie"
           }
          ],
          "scatter3d": [
           {
            "line": {
             "colorbar": {
              "outlinewidth": 0,
              "tickcolor": "rgb(36,36,36)",
              "ticklen": 8,
              "ticks": "outside",
              "tickwidth": 2
             }
            },
            "marker": {
             "colorbar": {
              "outlinewidth": 0,
              "tickcolor": "rgb(36,36,36)",
              "ticklen": 8,
              "ticks": "outside",
              "tickwidth": 2
             }
            },
            "type": "scatter3d"
           }
          ],
          "scattercarpet": [
           {
            "marker": {
             "colorbar": {
              "outlinewidth": 0,
              "tickcolor": "rgb(36,36,36)",
              "ticklen": 8,
              "ticks": "outside",
              "tickwidth": 2
             }
            },
            "type": "scattercarpet"
           }
          ],
          "scattergeo": [
           {
            "marker": {
             "colorbar": {
              "outlinewidth": 0,
              "tickcolor": "rgb(36,36,36)",
              "ticklen": 8,
              "ticks": "outside",
              "tickwidth": 2
             }
            },
            "type": "scattergeo"
           }
          ],
          "scattergl": [
           {
            "marker": {
             "colorbar": {
              "outlinewidth": 0,
              "tickcolor": "rgb(36,36,36)",
              "ticklen": 8,
              "ticks": "outside",
              "tickwidth": 2
             }
            },
            "type": "scattergl"
           }
          ],
          "scattermapbox": [
           {
            "marker": {
             "colorbar": {
              "outlinewidth": 0,
              "tickcolor": "rgb(36,36,36)",
              "ticklen": 8,
              "ticks": "outside",
              "tickwidth": 2
             }
            },
            "type": "scattermapbox"
           }
          ],
          "scatterpolargl": [
           {
            "marker": {
             "colorbar": {
              "outlinewidth": 0,
              "tickcolor": "rgb(36,36,36)",
              "ticklen": 8,
              "ticks": "outside",
              "tickwidth": 2
             }
            },
            "type": "scatterpolargl"
           }
          ],
          "scatterpolar": [
           {
            "marker": {
             "colorbar": {
              "outlinewidth": 0,
              "tickcolor": "rgb(36,36,36)",
              "ticklen": 8,
              "ticks": "outside",
              "tickwidth": 2
             }
            },
            "type": "scatterpolar"
           }
          ],
          "scatter": [
           {
            "fillpattern": {
             "fillmode": "overlay",
             "size": 10,
             "solidity": 0.2
            },
            "type": "scatter"
           }
          ],
          "scatterternary": [
           {
            "marker": {
             "colorbar": {
              "outlinewidth": 0,
              "tickcolor": "rgb(36,36,36)",
              "ticklen": 8,
              "ticks": "outside",
              "tickwidth": 2
             }
            },
            "type": "scatterternary"
           }
          ],
          "surface": [
           {
            "colorbar": {
             "outlinewidth": 0,
             "tickcolor": "rgb(36,36,36)",
             "ticklen": 8,
             "ticks": "outside",
             "tickwidth": 2
            },
            "colorscale": [
             [
              0.0,
              "rgb(2,4,25)"
             ],
             [
              0.06274509803921569,
              "rgb(24,15,41)"
             ],
             [
              0.12549019607843137,
              "rgb(47,23,57)"
             ],
             [
              0.18823529411764706,
              "rgb(71,28,72)"
             ],
             [
              0.25098039215686274,
              "rgb(97,30,82)"
             ],
             [
              0.3137254901960784,
              "rgb(123,30,89)"
             ],
             [
              0.3764705882352941,
              "rgb(150,27,91)"
             ],
             [
              0.4392156862745098,
              "rgb(177,22,88)"
             ],
             [
              0.5019607843137255,
              "rgb(203,26,79)"
             ],
             [
              0.5647058823529412,
              "rgb(223,47,67)"
             ],
             [
              0.6274509803921569,
              "rgb(236,76,61)"
             ],
             [
              0.6901960784313725,
              "rgb(242,107,73)"
             ],
             [
              0.7529411764705882,
              "rgb(244,135,95)"
             ],
             [
              0.8156862745098039,
              "rgb(245,162,122)"
             ],
             [
              0.8784313725490196,
              "rgb(246,188,153)"
             ],
             [
              0.9411764705882353,
              "rgb(247,212,187)"
             ],
             [
              1.0,
              "rgb(250,234,220)"
             ]
            ],
            "type": "surface"
           }
          ],
          "table": [
           {
            "cells": {
             "fill": {
              "color": "rgb(231,231,240)"
             },
             "line": {
              "color": "white"
             }
            },
            "header": {
             "fill": {
              "color": "rgb(183,183,191)"
             },
             "line": {
              "color": "white"
             }
            },
            "type": "table"
           }
          ]
         },
         "layout": {
          "annotationdefaults": {
           "arrowcolor": "rgb(67,103,167)"
          },
          "autotypenumbers": "strict",
          "coloraxis": {
           "colorbar": {
            "outlinewidth": 0,
            "tickcolor": "rgb(36,36,36)",
            "ticklen": 8,
            "ticks": "outside",
            "tickwidth": 2
           }
          },
          "colorscale": {
           "sequential": [
            [
             0.0,
             "rgb(2,4,25)"
            ],
            [
             0.06274509803921569,
             "rgb(24,15,41)"
            ],
            [
             0.12549019607843137,
             "rgb(47,23,57)"
            ],
            [
             0.18823529411764706,
             "rgb(71,28,72)"
            ],
            [
             0.25098039215686274,
             "rgb(97,30,82)"
            ],
            [
             0.3137254901960784,
             "rgb(123,30,89)"
            ],
            [
             0.3764705882352941,
             "rgb(150,27,91)"
            ],
            [
             0.4392156862745098,
             "rgb(177,22,88)"
            ],
            [
             0.5019607843137255,
             "rgb(203,26,79)"
            ],
            [
             0.5647058823529412,
             "rgb(223,47,67)"
            ],
            [
             0.6274509803921569,
             "rgb(236,76,61)"
            ],
            [
             0.6901960784313725,
             "rgb(242,107,73)"
            ],
            [
             0.7529411764705882,
             "rgb(244,135,95)"
            ],
            [
             0.8156862745098039,
             "rgb(245,162,122)"
            ],
            [
             0.8784313725490196,
             "rgb(246,188,153)"
            ],
            [
             0.9411764705882353,
             "rgb(247,212,187)"
            ],
            [
             1.0,
             "rgb(250,234,220)"
            ]
           ],
           "sequentialminus": [
            [
             0.0,
             "rgb(2,4,25)"
            ],
            [
             0.06274509803921569,
             "rgb(24,15,41)"
            ],
            [
             0.12549019607843137,
             "rgb(47,23,57)"
            ],
            [
             0.18823529411764706,
             "rgb(71,28,72)"
            ],
            [
             0.25098039215686274,
             "rgb(97,30,82)"
            ],
            [
             0.3137254901960784,
             "rgb(123,30,89)"
            ],
            [
             0.3764705882352941,
             "rgb(150,27,91)"
            ],
            [
             0.4392156862745098,
             "rgb(177,22,88)"
            ],
            [
             0.5019607843137255,
             "rgb(203,26,79)"
            ],
            [
             0.5647058823529412,
             "rgb(223,47,67)"
            ],
            [
             0.6274509803921569,
             "rgb(236,76,61)"
            ],
            [
             0.6901960784313725,
             "rgb(242,107,73)"
            ],
            [
             0.7529411764705882,
             "rgb(244,135,95)"
            ],
            [
             0.8156862745098039,
             "rgb(245,162,122)"
            ],
            [
             0.8784313725490196,
             "rgb(246,188,153)"
            ],
            [
             0.9411764705882353,
             "rgb(247,212,187)"
            ],
            [
             1.0,
             "rgb(250,234,220)"
            ]
           ]
          },
          "colorway": [
           "rgb(76,114,176)",
           "rgb(221,132,82)",
           "rgb(85,168,104)",
           "rgb(196,78,82)",
           "rgb(129,114,179)",
           "rgb(147,120,96)",
           "rgb(218,139,195)",
           "rgb(140,140,140)",
           "rgb(204,185,116)",
           "rgb(100,181,205)"
          ],
          "font": {
           "color": "rgb(36,36,36)"
          },
          "geo": {
           "bgcolor": "white",
           "lakecolor": "white",
           "landcolor": "rgb(234,234,242)",
           "showlakes": true,
           "showland": true,
           "subunitcolor": "white"
          },
          "hoverlabel": {
           "align": "left"
          },
          "hovermode": "closest",
          "paper_bgcolor": "white",
          "plot_bgcolor": "rgb(234,234,242)",
          "polar": {
           "angularaxis": {
            "gridcolor": "white",
            "linecolor": "white",
            "showgrid": true,
            "ticks": ""
           },
           "bgcolor": "rgb(234,234,242)",
           "radialaxis": {
            "gridcolor": "white",
            "linecolor": "white",
            "showgrid": true,
            "ticks": ""
           }
          },
          "scene": {
           "xaxis": {
            "backgroundcolor": "rgb(234,234,242)",
            "gridcolor": "white",
            "gridwidth": 2,
            "linecolor": "white",
            "showbackground": true,
            "showgrid": true,
            "ticks": "",
            "zerolinecolor": "white"
           },
           "yaxis": {
            "backgroundcolor": "rgb(234,234,242)",
            "gridcolor": "white",
            "gridwidth": 2,
            "linecolor": "white",
            "showbackground": true,
            "showgrid": true,
            "ticks": "",
            "zerolinecolor": "white"
           },
           "zaxis": {
            "backgroundcolor": "rgb(234,234,242)",
            "gridcolor": "white",
            "gridwidth": 2,
            "linecolor": "white",
            "showbackground": true,
            "showgrid": true,
            "ticks": "",
            "zerolinecolor": "white"
           }
          },
          "shapedefaults": {
           "fillcolor": "rgb(67,103,167)",
           "line": {
            "width": 0
           },
           "opacity": 0.5
          },
          "ternary": {
           "aaxis": {
            "gridcolor": "white",
            "linecolor": "white",
            "showgrid": true,
            "ticks": ""
           },
           "baxis": {
            "gridcolor": "white",
            "linecolor": "white",
            "showgrid": true,
            "ticks": ""
           },
           "bgcolor": "rgb(234,234,242)",
           "caxis": {
            "gridcolor": "white",
            "linecolor": "white",
            "showgrid": true,
            "ticks": ""
           }
          },
          "xaxis": {
           "automargin": true,
           "gridcolor": "white",
           "linecolor": "white",
           "showgrid": true,
           "ticks": "",
           "title": {
            "standoff": 15
           },
           "zerolinecolor": "white"
          },
          "yaxis": {
           "automargin": true,
           "gridcolor": "white",
           "linecolor": "white",
           "showgrid": true,
           "ticks": "",
           "title": {
            "standoff": 15
           },
           "zerolinecolor": "white"
          }
         }
        },
        "title": {
         "text": "Real vs Dataset Population Ratio Comparison"
        },
        "width": 800
       },
       "config": {
        "showLink": false,
        "linkText": "Export to plot.ly",
        "plotlyServerURL": "https://plot.ly"
       }
      },
      "text/html": "<div>                            <div id=\"27fc6ae7-59f6-4e62-abfe-aad884b090e9\" class=\"plotly-graph-div\" style=\"height:525px; width:800px;\"></div>            <script type=\"text/javascript\">                require([\"plotly\"], function(Plotly) {                    window.PLOTLYENV=window.PLOTLYENV || {};                                    if (document.getElementById(\"27fc6ae7-59f6-4e62-abfe-aad884b090e9\")) {                    Plotly.newPlot(                        \"27fc6ae7-59f6-4e62-abfe-aad884b090e9\",                        [{\"line\":{\"color\":\"#e72a8a\"},\"name\":\"Real Ratios\",\"r\":[1.02020202020202,0.6887546923453566,0.27877237851662406,0.09649122807017545,0.3568521031207598,0.2835570469798657,1.02020202020202],\"theta\":[\"GENDER\",\"ETHNICITY\",\"LANGUAGE\",\"INSURANCE\",\"RELIGION\",\"AGE\",\"GENDER\"],\"type\":\"scatterpolar\"},{\"line\":{\"color\":\"#1c9e77\"},\"name\":\"Dataset Ratios\",\"r\":[0.8177831283859317,0.4087970676441186,0.09471776281719316,0.00868444911008255,0.18035624546317494,1.2132760967437966,0.8177831283859317],\"theta\":[\"GENDER\",\"ETHNICITY\",\"LANGUAGE\",\"INSURANCE\",\"RELIGION\",\"AGE\",\"GENDER\"],\"type\":\"scatterpolar\"}],                        {\"margin\":{\"b\":0,\"l\":0,\"r\":0,\"t\":70},\"polar\":{\"radialaxis\":{\"visible\":true}},\"showlegend\":true,\"template\":{\"data\":{\"barpolar\":[{\"marker\":{\"line\":{\"color\":\"rgb(234,234,242)\",\"width\":0.5},\"pattern\":{\"fillmode\":\"overlay\",\"size\":10,\"solidity\":0.2}},\"type\":\"barpolar\"}],\"bar\":[{\"error_x\":{\"color\":\"rgb(36,36,36)\"},\"error_y\":{\"color\":\"rgb(36,36,36)\"},\"marker\":{\"line\":{\"color\":\"rgb(234,234,242)\",\"width\":0.5},\"pattern\":{\"fillmode\":\"overlay\",\"size\":10,\"solidity\":0.2}},\"type\":\"bar\"}],\"carpet\":[{\"aaxis\":{\"endlinecolor\":\"rgb(36,36,36)\",\"gridcolor\":\"white\",\"linecolor\":\"white\",\"minorgridcolor\":\"white\",\"startlinecolor\":\"rgb(36,36,36)\"},\"baxis\":{\"endlinecolor\":\"rgb(36,36,36)\",\"gridcolor\":\"white\",\"linecolor\":\"white\",\"minorgridcolor\":\"white\",\"startlinecolor\":\"rgb(36,36,36)\"},\"type\":\"carpet\"}],\"choropleth\":[{\"colorbar\":{\"outlinewidth\":0,\"tickcolor\":\"rgb(36,36,36)\",\"ticklen\":8,\"ticks\":\"outside\",\"tickwidth\":2},\"type\":\"choropleth\"}],\"contourcarpet\":[{\"colorbar\":{\"outlinewidth\":0,\"tickcolor\":\"rgb(36,36,36)\",\"ticklen\":8,\"ticks\":\"outside\",\"tickwidth\":2},\"type\":\"contourcarpet\"}],\"contour\":[{\"colorbar\":{\"outlinewidth\":0,\"tickcolor\":\"rgb(36,36,36)\",\"ticklen\":8,\"ticks\":\"outside\",\"tickwidth\":2},\"colorscale\":[[0.0,\"rgb(2,4,25)\"],[0.06274509803921569,\"rgb(24,15,41)\"],[0.12549019607843137,\"rgb(47,23,57)\"],[0.18823529411764706,\"rgb(71,28,72)\"],[0.25098039215686274,\"rgb(97,30,82)\"],[0.3137254901960784,\"rgb(123,30,89)\"],[0.3764705882352941,\"rgb(150,27,91)\"],[0.4392156862745098,\"rgb(177,22,88)\"],[0.5019607843137255,\"rgb(203,26,79)\"],[0.5647058823529412,\"rgb(223,47,67)\"],[0.6274509803921569,\"rgb(236,76,61)\"],[0.6901960784313725,\"rgb(242,107,73)\"],[0.7529411764705882,\"rgb(244,135,95)\"],[0.8156862745098039,\"rgb(245,162,122)\"],[0.8784313725490196,\"rgb(246,188,153)\"],[0.9411764705882353,\"rgb(247,212,187)\"],[1.0,\"rgb(250,234,220)\"]],\"type\":\"contour\"}],\"heatmapgl\":[{\"colorbar\":{\"outlinewidth\":0,\"tickcolor\":\"rgb(36,36,36)\",\"ticklen\":8,\"ticks\":\"outside\",\"tickwidth\":2},\"colorscale\":[[0.0,\"rgb(2,4,25)\"],[0.06274509803921569,\"rgb(24,15,41)\"],[0.12549019607843137,\"rgb(47,23,57)\"],[0.18823529411764706,\"rgb(71,28,72)\"],[0.25098039215686274,\"rgb(97,30,82)\"],[0.3137254901960784,\"rgb(123,30,89)\"],[0.3764705882352941,\"rgb(150,27,91)\"],[0.4392156862745098,\"rgb(177,22,88)\"],[0.5019607843137255,\"rgb(203,26,79)\"],[0.5647058823529412,\"rgb(223,47,67)\"],[0.6274509803921569,\"rgb(236,76,61)\"],[0.6901960784313725,\"rgb(242,107,73)\"],[0.7529411764705882,\"rgb(244,135,95)\"],[0.8156862745098039,\"rgb(245,162,122)\"],[0.8784313725490196,\"rgb(246,188,153)\"],[0.9411764705882353,\"rgb(247,212,187)\"],[1.0,\"rgb(250,234,220)\"]],\"type\":\"heatmapgl\"}],\"heatmap\":[{\"colorbar\":{\"outlinewidth\":0,\"tickcolor\":\"rgb(36,36,36)\",\"ticklen\":8,\"ticks\":\"outside\",\"tickwidth\":2},\"colorscale\":[[0.0,\"rgb(2,4,25)\"],[0.06274509803921569,\"rgb(24,15,41)\"],[0.12549019607843137,\"rgb(47,23,57)\"],[0.18823529411764706,\"rgb(71,28,72)\"],[0.25098039215686274,\"rgb(97,30,82)\"],[0.3137254901960784,\"rgb(123,30,89)\"],[0.3764705882352941,\"rgb(150,27,91)\"],[0.4392156862745098,\"rgb(177,22,88)\"],[0.5019607843137255,\"rgb(203,26,79)\"],[0.5647058823529412,\"rgb(223,47,67)\"],[0.6274509803921569,\"rgb(236,76,61)\"],[0.6901960784313725,\"rgb(242,107,73)\"],[0.7529411764705882,\"rgb(244,135,95)\"],[0.8156862745098039,\"rgb(245,162,122)\"],[0.8784313725490196,\"rgb(246,188,153)\"],[0.9411764705882353,\"rgb(247,212,187)\"],[1.0,\"rgb(250,234,220)\"]],\"type\":\"heatmap\"}],\"histogram2dcontour\":[{\"colorbar\":{\"outlinewidth\":0,\"tickcolor\":\"rgb(36,36,36)\",\"ticklen\":8,\"ticks\":\"outside\",\"tickwidth\":2},\"colorscale\":[[0.0,\"rgb(2,4,25)\"],[0.06274509803921569,\"rgb(24,15,41)\"],[0.12549019607843137,\"rgb(47,23,57)\"],[0.18823529411764706,\"rgb(71,28,72)\"],[0.25098039215686274,\"rgb(97,30,82)\"],[0.3137254901960784,\"rgb(123,30,89)\"],[0.3764705882352941,\"rgb(150,27,91)\"],[0.4392156862745098,\"rgb(177,22,88)\"],[0.5019607843137255,\"rgb(203,26,79)\"],[0.5647058823529412,\"rgb(223,47,67)\"],[0.6274509803921569,\"rgb(236,76,61)\"],[0.6901960784313725,\"rgb(242,107,73)\"],[0.7529411764705882,\"rgb(244,135,95)\"],[0.8156862745098039,\"rgb(245,162,122)\"],[0.8784313725490196,\"rgb(246,188,153)\"],[0.9411764705882353,\"rgb(247,212,187)\"],[1.0,\"rgb(250,234,220)\"]],\"type\":\"histogram2dcontour\"}],\"histogram2d\":[{\"colorbar\":{\"outlinewidth\":0,\"tickcolor\":\"rgb(36,36,36)\",\"ticklen\":8,\"ticks\":\"outside\",\"tickwidth\":2},\"colorscale\":[[0.0,\"rgb(2,4,25)\"],[0.06274509803921569,\"rgb(24,15,41)\"],[0.12549019607843137,\"rgb(47,23,57)\"],[0.18823529411764706,\"rgb(71,28,72)\"],[0.25098039215686274,\"rgb(97,30,82)\"],[0.3137254901960784,\"rgb(123,30,89)\"],[0.3764705882352941,\"rgb(150,27,91)\"],[0.4392156862745098,\"rgb(177,22,88)\"],[0.5019607843137255,\"rgb(203,26,79)\"],[0.5647058823529412,\"rgb(223,47,67)\"],[0.6274509803921569,\"rgb(236,76,61)\"],[0.6901960784313725,\"rgb(242,107,73)\"],[0.7529411764705882,\"rgb(244,135,95)\"],[0.8156862745098039,\"rgb(245,162,122)\"],[0.8784313725490196,\"rgb(246,188,153)\"],[0.9411764705882353,\"rgb(247,212,187)\"],[1.0,\"rgb(250,234,220)\"]],\"type\":\"histogram2d\"}],\"histogram\":[{\"marker\":{\"pattern\":{\"fillmode\":\"overlay\",\"size\":10,\"solidity\":0.2}},\"type\":\"histogram\"}],\"mesh3d\":[{\"colorbar\":{\"outlinewidth\":0,\"tickcolor\":\"rgb(36,36,36)\",\"ticklen\":8,\"ticks\":\"outside\",\"tickwidth\":2},\"type\":\"mesh3d\"}],\"parcoords\":[{\"line\":{\"colorbar\":{\"outlinewidth\":0,\"tickcolor\":\"rgb(36,36,36)\",\"ticklen\":8,\"ticks\":\"outside\",\"tickwidth\":2}},\"type\":\"parcoords\"}],\"pie\":[{\"automargin\":true,\"type\":\"pie\"}],\"scatter3d\":[{\"line\":{\"colorbar\":{\"outlinewidth\":0,\"tickcolor\":\"rgb(36,36,36)\",\"ticklen\":8,\"ticks\":\"outside\",\"tickwidth\":2}},\"marker\":{\"colorbar\":{\"outlinewidth\":0,\"tickcolor\":\"rgb(36,36,36)\",\"ticklen\":8,\"ticks\":\"outside\",\"tickwidth\":2}},\"type\":\"scatter3d\"}],\"scattercarpet\":[{\"marker\":{\"colorbar\":{\"outlinewidth\":0,\"tickcolor\":\"rgb(36,36,36)\",\"ticklen\":8,\"ticks\":\"outside\",\"tickwidth\":2}},\"type\":\"scattercarpet\"}],\"scattergeo\":[{\"marker\":{\"colorbar\":{\"outlinewidth\":0,\"tickcolor\":\"rgb(36,36,36)\",\"ticklen\":8,\"ticks\":\"outside\",\"tickwidth\":2}},\"type\":\"scattergeo\"}],\"scattergl\":[{\"marker\":{\"colorbar\":{\"outlinewidth\":0,\"tickcolor\":\"rgb(36,36,36)\",\"ticklen\":8,\"ticks\":\"outside\",\"tickwidth\":2}},\"type\":\"scattergl\"}],\"scattermapbox\":[{\"marker\":{\"colorbar\":{\"outlinewidth\":0,\"tickcolor\":\"rgb(36,36,36)\",\"ticklen\":8,\"ticks\":\"outside\",\"tickwidth\":2}},\"type\":\"scattermapbox\"}],\"scatterpolargl\":[{\"marker\":{\"colorbar\":{\"outlinewidth\":0,\"tickcolor\":\"rgb(36,36,36)\",\"ticklen\":8,\"ticks\":\"outside\",\"tickwidth\":2}},\"type\":\"scatterpolargl\"}],\"scatterpolar\":[{\"marker\":{\"colorbar\":{\"outlinewidth\":0,\"tickcolor\":\"rgb(36,36,36)\",\"ticklen\":8,\"ticks\":\"outside\",\"tickwidth\":2}},\"type\":\"scatterpolar\"}],\"scatter\":[{\"fillpattern\":{\"fillmode\":\"overlay\",\"size\":10,\"solidity\":0.2},\"type\":\"scatter\"}],\"scatterternary\":[{\"marker\":{\"colorbar\":{\"outlinewidth\":0,\"tickcolor\":\"rgb(36,36,36)\",\"ticklen\":8,\"ticks\":\"outside\",\"tickwidth\":2}},\"type\":\"scatterternary\"}],\"surface\":[{\"colorbar\":{\"outlinewidth\":0,\"tickcolor\":\"rgb(36,36,36)\",\"ticklen\":8,\"ticks\":\"outside\",\"tickwidth\":2},\"colorscale\":[[0.0,\"rgb(2,4,25)\"],[0.06274509803921569,\"rgb(24,15,41)\"],[0.12549019607843137,\"rgb(47,23,57)\"],[0.18823529411764706,\"rgb(71,28,72)\"],[0.25098039215686274,\"rgb(97,30,82)\"],[0.3137254901960784,\"rgb(123,30,89)\"],[0.3764705882352941,\"rgb(150,27,91)\"],[0.4392156862745098,\"rgb(177,22,88)\"],[0.5019607843137255,\"rgb(203,26,79)\"],[0.5647058823529412,\"rgb(223,47,67)\"],[0.6274509803921569,\"rgb(236,76,61)\"],[0.6901960784313725,\"rgb(242,107,73)\"],[0.7529411764705882,\"rgb(244,135,95)\"],[0.8156862745098039,\"rgb(245,162,122)\"],[0.8784313725490196,\"rgb(246,188,153)\"],[0.9411764705882353,\"rgb(247,212,187)\"],[1.0,\"rgb(250,234,220)\"]],\"type\":\"surface\"}],\"table\":[{\"cells\":{\"fill\":{\"color\":\"rgb(231,231,240)\"},\"line\":{\"color\":\"white\"}},\"header\":{\"fill\":{\"color\":\"rgb(183,183,191)\"},\"line\":{\"color\":\"white\"}},\"type\":\"table\"}]},\"layout\":{\"annotationdefaults\":{\"arrowcolor\":\"rgb(67,103,167)\"},\"autotypenumbers\":\"strict\",\"coloraxis\":{\"colorbar\":{\"outlinewidth\":0,\"tickcolor\":\"rgb(36,36,36)\",\"ticklen\":8,\"ticks\":\"outside\",\"tickwidth\":2}},\"colorscale\":{\"sequential\":[[0.0,\"rgb(2,4,25)\"],[0.06274509803921569,\"rgb(24,15,41)\"],[0.12549019607843137,\"rgb(47,23,57)\"],[0.18823529411764706,\"rgb(71,28,72)\"],[0.25098039215686274,\"rgb(97,30,82)\"],[0.3137254901960784,\"rgb(123,30,89)\"],[0.3764705882352941,\"rgb(150,27,91)\"],[0.4392156862745098,\"rgb(177,22,88)\"],[0.5019607843137255,\"rgb(203,26,79)\"],[0.5647058823529412,\"rgb(223,47,67)\"],[0.6274509803921569,\"rgb(236,76,61)\"],[0.6901960784313725,\"rgb(242,107,73)\"],[0.7529411764705882,\"rgb(244,135,95)\"],[0.8156862745098039,\"rgb(245,162,122)\"],[0.8784313725490196,\"rgb(246,188,153)\"],[0.9411764705882353,\"rgb(247,212,187)\"],[1.0,\"rgb(250,234,220)\"]],\"sequentialminus\":[[0.0,\"rgb(2,4,25)\"],[0.06274509803921569,\"rgb(24,15,41)\"],[0.12549019607843137,\"rgb(47,23,57)\"],[0.18823529411764706,\"rgb(71,28,72)\"],[0.25098039215686274,\"rgb(97,30,82)\"],[0.3137254901960784,\"rgb(123,30,89)\"],[0.3764705882352941,\"rgb(150,27,91)\"],[0.4392156862745098,\"rgb(177,22,88)\"],[0.5019607843137255,\"rgb(203,26,79)\"],[0.5647058823529412,\"rgb(223,47,67)\"],[0.6274509803921569,\"rgb(236,76,61)\"],[0.6901960784313725,\"rgb(242,107,73)\"],[0.7529411764705882,\"rgb(244,135,95)\"],[0.8156862745098039,\"rgb(245,162,122)\"],[0.8784313725490196,\"rgb(246,188,153)\"],[0.9411764705882353,\"rgb(247,212,187)\"],[1.0,\"rgb(250,234,220)\"]]},\"colorway\":[\"rgb(76,114,176)\",\"rgb(221,132,82)\",\"rgb(85,168,104)\",\"rgb(196,78,82)\",\"rgb(129,114,179)\",\"rgb(147,120,96)\",\"rgb(218,139,195)\",\"rgb(140,140,140)\",\"rgb(204,185,116)\",\"rgb(100,181,205)\"],\"font\":{\"color\":\"rgb(36,36,36)\"},\"geo\":{\"bgcolor\":\"white\",\"lakecolor\":\"white\",\"landcolor\":\"rgb(234,234,242)\",\"showlakes\":true,\"showland\":true,\"subunitcolor\":\"white\"},\"hoverlabel\":{\"align\":\"left\"},\"hovermode\":\"closest\",\"paper_bgcolor\":\"white\",\"plot_bgcolor\":\"rgb(234,234,242)\",\"polar\":{\"angularaxis\":{\"gridcolor\":\"white\",\"linecolor\":\"white\",\"showgrid\":true,\"ticks\":\"\"},\"bgcolor\":\"rgb(234,234,242)\",\"radialaxis\":{\"gridcolor\":\"white\",\"linecolor\":\"white\",\"showgrid\":true,\"ticks\":\"\"}},\"scene\":{\"xaxis\":{\"backgroundcolor\":\"rgb(234,234,242)\",\"gridcolor\":\"white\",\"gridwidth\":2,\"linecolor\":\"white\",\"showbackground\":true,\"showgrid\":true,\"ticks\":\"\",\"zerolinecolor\":\"white\"},\"yaxis\":{\"backgroundcolor\":\"rgb(234,234,242)\",\"gridcolor\":\"white\",\"gridwidth\":2,\"linecolor\":\"white\",\"showbackground\":true,\"showgrid\":true,\"ticks\":\"\",\"zerolinecolor\":\"white\"},\"zaxis\":{\"backgroundcolor\":\"rgb(234,234,242)\",\"gridcolor\":\"white\",\"gridwidth\":2,\"linecolor\":\"white\",\"showbackground\":true,\"showgrid\":true,\"ticks\":\"\",\"zerolinecolor\":\"white\"}},\"shapedefaults\":{\"fillcolor\":\"rgb(67,103,167)\",\"line\":{\"width\":0},\"opacity\":0.5},\"ternary\":{\"aaxis\":{\"gridcolor\":\"white\",\"linecolor\":\"white\",\"showgrid\":true,\"ticks\":\"\"},\"baxis\":{\"gridcolor\":\"white\",\"linecolor\":\"white\",\"showgrid\":true,\"ticks\":\"\"},\"bgcolor\":\"rgb(234,234,242)\",\"caxis\":{\"gridcolor\":\"white\",\"linecolor\":\"white\",\"showgrid\":true,\"ticks\":\"\"}},\"xaxis\":{\"automargin\":true,\"gridcolor\":\"white\",\"linecolor\":\"white\",\"showgrid\":true,\"ticks\":\"\",\"title\":{\"standoff\":15},\"zerolinecolor\":\"white\"},\"yaxis\":{\"automargin\":true,\"gridcolor\":\"white\",\"linecolor\":\"white\",\"showgrid\":true,\"ticks\":\"\",\"title\":{\"standoff\":15},\"zerolinecolor\":\"white\"}}},\"title\":{\"text\":\"Real vs Dataset Population Ratio Comparison\"},\"width\":800},                        {\"responsive\": true}                    ).then(function(){\n                            \nvar gd = document.getElementById('27fc6ae7-59f6-4e62-abfe-aad884b090e9');\nvar x = new MutationObserver(function (mutations, observer) {{\n        var display = window.getComputedStyle(gd).display;\n        if (!display || display === 'none') {{\n            console.log([gd, 'removed!']);\n            Plotly.purge(gd);\n            observer.disconnect();\n        }}\n}});\n\n// Listen for the removal of the full notebook cells\nvar notebookContainer = gd.closest('#notebook-container');\nif (notebookContainer) {{\n    x.observe(notebookContainer, {childList: true});\n}}\n\n// Listen for the clearing of the current output cell\nvar outputEl = gd.closest('.output');\nif (outputEl) {{\n    x.observe(outputEl, {childList: true});\n}}\n\n                        })                };                });            </script>        </div>"
     },
     "metadata": {},
     "output_type": "display_data"
    }
   ],
   "source": [
    "categories = ratios.attribute\n",
    "categories = [*categories, categories[0]]\n",
    "\n",
    "real_ratio = ratios.real_ratio\n",
    "dataset_ratio = ratios.dataset_ratio\n",
    "real_ratio = [*real_ratio, real_ratio[0]]\n",
    "dataset_ratio = [*dataset_ratio, dataset_ratio[0]]\n",
    "\n",
    "fig = go.Figure(\n",
    "    data=[\n",
    "        go.Scatterpolar(r=real_ratio, theta=categories, name='Real Ratios'),\n",
    "        go.Scatterpolar(r=dataset_ratio, theta=categories, name='Dataset Ratios'),\n",
    "    ],\n",
    "    layout=go.Layout(\n",
    "        title=go.layout.Title(\n",
    "            text='Real vs Dataset Population Ratio Comparison'),\n",
    "        polar={'radialaxis': {'visible': True}},\n",
    "        showlegend=True,\n",
    "        margin=go.layout.Margin(\n",
    "        l=0, #left margin\n",
    "        r=0, #right margin\n",
    "        b=0, #bottom margin\n",
    "        t=70, #top margin\n",
    "        ),\n",
    "        template='seaborn',\n",
    "    )\n",
    ")\n",
    "fig['data'][0]['line']['color']=\"#e72a8a\"\n",
    "fig['data'][1]['line']['color']=\"#1c9e77\"\n",
    "fig.update_layout(width=int(800))\n",
    "                  # , paper_bgcolor=\"rgba(0,0,0,0)\")\n",
    "pyo.iplot(fig)\n",
    "output_path = \"img\"\n",
    "if not os.path.exists(output_path):\n",
    "    os.makedirs(output_path)\n",
    "fig.write_image(os.path.join(output_path, \"representationRadar.pdf\"), engine=\"kaleido\")"
   ],
   "metadata": {
    "collapsed": false
   }
  },
  {
   "cell_type": "markdown",
   "source": [
    "## Are there underrepresented populations?"
   ],
   "metadata": {
    "collapsed": false
   }
  },
  {
   "cell_type": "code",
   "execution_count": 165,
   "outputs": [
    {
     "data": {
      "text/plain": "       y_true  SUBJECT_ID  LANGUAGE  INSURANCE  RELIGION  ETHNICITY  GENDER  \\\n0           0       12797         1          1         0          1       0   \n1           0        9027         1          1         1          0       1   \n2           0       40386         1          1         1          1       0   \n3           0       48770         1          0         1          1       1   \n4           0       14037         1          1         1          1       1   \n5           1       15656         1          1         1          1       0   \n6           1       83338         1          1         1          1       0   \n7           0       21827         1          1         1          0       1   \n8           0       21827         1          1         1          0       1   \n9           0       20226         1          1         1          1       0   \n10          1       26578         1          1         1          1       1   \n11          1        9200         1          1         1          1       1   \n12          0       15881         1          1         0          1       0   \n13          0       59005         1          1         0          1       1   \n14          1       14276         1          1         1          1       1   \n15          0       81660         1          1         1          1       0   \n16          0       81660         1          1         1          1       0   \n17          0       81660         1          1         1          1       0   \n18          0       28279         1          1         1          1       1   \n19          1       15259         1          1         0          1       1   \n20          0       24133         0          1         0          1       0   \n21          0       92525         1          1         1          1       1   \n22          0       92525         1          1         1          1       1   \n23          0       28068         0          1         1          0       1   \n24          0       72540         1          1         0          1       1   \n25          0       53534         1          1         1          1       1   \n26          0       53534         1          1         1          1       1   \n27          1       53534         1          1         1          1       1   \n28          0        1313         1          1         1          1       1   \n29          0        1313         1          1         1          1       1   \n...       ...         ...       ...        ...       ...        ...     ...   \n21109       0       68964         1          1         1          1       1   \n21110       0       31130         1          1         1          1       1   \n21111       0       75526         1          1         1          1       1   \n21112       0       82534         1          1         0          1       0   \n21113       0       54559         1          1         1          1       1   \n21114       0       78101         0          1         1          0       1   \n21115       0       62884         0          1         0          1       0   \n21116       1        4884         1          1         1          1       1   \n21117       1        5886         1          1         1          0       1   \n21118       0        7024         1          1         1          1       0   \n21119       0       40599         1          1         1          1       1   \n21120       1        2332         1          1         1          0       0   \n21121       0       94232         1          1         1          1       1   \n21122       0        4177         1          1         1          0       0   \n21123       0       78380         1          1         1          0       0   \n21124       0       17791         0          1         1          1       1   \n21125       0       40706         1          1         1          1       1   \n21126       0       67722         1          1         1          1       1   \n21127       0       93229         1          1         1          1       1   \n21128       0        3602         1          1         0          0       0   \n21129       0       27457         0          1         1          0       0   \n21130       1       20587         1          1         1          0       1   \n21131       0       80344         1          1         1          0       1   \n21132       0       28031         1          1         1          1       1   \n21133       0        9805         1          1         1          1       1   \n21134       1       25180         1          1         0          1       1   \n21135       0       14484         1          1         0          0       1   \n21136       0       17321         1          1         1          1       1   \n21137       0       21375         1          1         1          1       1   \n21138       1        5665         0          1         1          0       1   \n\n       AGE  \n0        0  \n1        1  \n2        0  \n3        1  \n4        1  \n5        0  \n6        0  \n7        0  \n8        0  \n9        0  \n10       0  \n11       0  \n12       1  \n13       1  \n14       1  \n15       1  \n16       1  \n17       1  \n18       1  \n19       0  \n20       0  \n21       1  \n22       1  \n23       0  \n24       0  \n25       0  \n26       0  \n27       0  \n28       0  \n29       0  \n...    ...  \n21109    0  \n21110    0  \n21111    1  \n21112    0  \n21113    0  \n21114    0  \n21115    0  \n21116    0  \n21117    1  \n21118    0  \n21119    0  \n21120    0  \n21121    1  \n21122    1  \n21123    1  \n21124    0  \n21125    0  \n21126    0  \n21127    1  \n21128    1  \n21129    0  \n21130    1  \n21131    1  \n21132    0  \n21133    0  \n21134    0  \n21135    0  \n21136    0  \n21137    0  \n21138    0  \n\n[21139 rows x 8 columns]",
      "text/html": "<div>\n<style scoped>\n    .dataframe tbody tr th:only-of-type {\n        vertical-align: middle;\n    }\n\n    .dataframe tbody tr th {\n        vertical-align: top;\n    }\n\n    .dataframe thead th {\n        text-align: right;\n    }\n</style>\n<table border=\"1\" class=\"dataframe\">\n  <thead>\n    <tr style=\"text-align: right;\">\n      <th></th>\n      <th>y_true</th>\n      <th>SUBJECT_ID</th>\n      <th>LANGUAGE</th>\n      <th>INSURANCE</th>\n      <th>RELIGION</th>\n      <th>ETHNICITY</th>\n      <th>GENDER</th>\n      <th>AGE</th>\n    </tr>\n  </thead>\n  <tbody>\n    <tr>\n      <th>0</th>\n      <td>0</td>\n      <td>12797</td>\n      <td>1</td>\n      <td>1</td>\n      <td>0</td>\n      <td>1</td>\n      <td>0</td>\n      <td>0</td>\n    </tr>\n    <tr>\n      <th>1</th>\n      <td>0</td>\n      <td>9027</td>\n      <td>1</td>\n      <td>1</td>\n      <td>1</td>\n      <td>0</td>\n      <td>1</td>\n      <td>1</td>\n    </tr>\n    <tr>\n      <th>2</th>\n      <td>0</td>\n      <td>40386</td>\n      <td>1</td>\n      <td>1</td>\n      <td>1</td>\n      <td>1</td>\n      <td>0</td>\n      <td>0</td>\n    </tr>\n    <tr>\n      <th>3</th>\n      <td>0</td>\n      <td>48770</td>\n      <td>1</td>\n      <td>0</td>\n      <td>1</td>\n      <td>1</td>\n      <td>1</td>\n      <td>1</td>\n    </tr>\n    <tr>\n      <th>4</th>\n      <td>0</td>\n      <td>14037</td>\n      <td>1</td>\n      <td>1</td>\n      <td>1</td>\n      <td>1</td>\n      <td>1</td>\n      <td>1</td>\n    </tr>\n    <tr>\n      <th>5</th>\n      <td>1</td>\n      <td>15656</td>\n      <td>1</td>\n      <td>1</td>\n      <td>1</td>\n      <td>1</td>\n      <td>0</td>\n      <td>0</td>\n    </tr>\n    <tr>\n      <th>6</th>\n      <td>1</td>\n      <td>83338</td>\n      <td>1</td>\n      <td>1</td>\n      <td>1</td>\n      <td>1</td>\n      <td>0</td>\n      <td>0</td>\n    </tr>\n    <tr>\n      <th>7</th>\n      <td>0</td>\n      <td>21827</td>\n      <td>1</td>\n      <td>1</td>\n      <td>1</td>\n      <td>0</td>\n      <td>1</td>\n      <td>0</td>\n    </tr>\n    <tr>\n      <th>8</th>\n      <td>0</td>\n      <td>21827</td>\n      <td>1</td>\n      <td>1</td>\n      <td>1</td>\n      <td>0</td>\n      <td>1</td>\n      <td>0</td>\n    </tr>\n    <tr>\n      <th>9</th>\n      <td>0</td>\n      <td>20226</td>\n      <td>1</td>\n      <td>1</td>\n      <td>1</td>\n      <td>1</td>\n      <td>0</td>\n      <td>0</td>\n    </tr>\n    <tr>\n      <th>10</th>\n      <td>1</td>\n      <td>26578</td>\n      <td>1</td>\n      <td>1</td>\n      <td>1</td>\n      <td>1</td>\n      <td>1</td>\n      <td>0</td>\n    </tr>\n    <tr>\n      <th>11</th>\n      <td>1</td>\n      <td>9200</td>\n      <td>1</td>\n      <td>1</td>\n      <td>1</td>\n      <td>1</td>\n      <td>1</td>\n      <td>0</td>\n    </tr>\n    <tr>\n      <th>12</th>\n      <td>0</td>\n      <td>15881</td>\n      <td>1</td>\n      <td>1</td>\n      <td>0</td>\n      <td>1</td>\n      <td>0</td>\n      <td>1</td>\n    </tr>\n    <tr>\n      <th>13</th>\n      <td>0</td>\n      <td>59005</td>\n      <td>1</td>\n      <td>1</td>\n      <td>0</td>\n      <td>1</td>\n      <td>1</td>\n      <td>1</td>\n    </tr>\n    <tr>\n      <th>14</th>\n      <td>1</td>\n      <td>14276</td>\n      <td>1</td>\n      <td>1</td>\n      <td>1</td>\n      <td>1</td>\n      <td>1</td>\n      <td>1</td>\n    </tr>\n    <tr>\n      <th>15</th>\n      <td>0</td>\n      <td>81660</td>\n      <td>1</td>\n      <td>1</td>\n      <td>1</td>\n      <td>1</td>\n      <td>0</td>\n      <td>1</td>\n    </tr>\n    <tr>\n      <th>16</th>\n      <td>0</td>\n      <td>81660</td>\n      <td>1</td>\n      <td>1</td>\n      <td>1</td>\n      <td>1</td>\n      <td>0</td>\n      <td>1</td>\n    </tr>\n    <tr>\n      <th>17</th>\n      <td>0</td>\n      <td>81660</td>\n      <td>1</td>\n      <td>1</td>\n      <td>1</td>\n      <td>1</td>\n      <td>0</td>\n      <td>1</td>\n    </tr>\n    <tr>\n      <th>18</th>\n      <td>0</td>\n      <td>28279</td>\n      <td>1</td>\n      <td>1</td>\n      <td>1</td>\n      <td>1</td>\n      <td>1</td>\n      <td>1</td>\n    </tr>\n    <tr>\n      <th>19</th>\n      <td>1</td>\n      <td>15259</td>\n      <td>1</td>\n      <td>1</td>\n      <td>0</td>\n      <td>1</td>\n      <td>1</td>\n      <td>0</td>\n    </tr>\n    <tr>\n      <th>20</th>\n      <td>0</td>\n      <td>24133</td>\n      <td>0</td>\n      <td>1</td>\n      <td>0</td>\n      <td>1</td>\n      <td>0</td>\n      <td>0</td>\n    </tr>\n    <tr>\n      <th>21</th>\n      <td>0</td>\n      <td>92525</td>\n      <td>1</td>\n      <td>1</td>\n      <td>1</td>\n      <td>1</td>\n      <td>1</td>\n      <td>1</td>\n    </tr>\n    <tr>\n      <th>22</th>\n      <td>0</td>\n      <td>92525</td>\n      <td>1</td>\n      <td>1</td>\n      <td>1</td>\n      <td>1</td>\n      <td>1</td>\n      <td>1</td>\n    </tr>\n    <tr>\n      <th>23</th>\n      <td>0</td>\n      <td>28068</td>\n      <td>0</td>\n      <td>1</td>\n      <td>1</td>\n      <td>0</td>\n      <td>1</td>\n      <td>0</td>\n    </tr>\n    <tr>\n      <th>24</th>\n      <td>0</td>\n      <td>72540</td>\n      <td>1</td>\n      <td>1</td>\n      <td>0</td>\n      <td>1</td>\n      <td>1</td>\n      <td>0</td>\n    </tr>\n    <tr>\n      <th>25</th>\n      <td>0</td>\n      <td>53534</td>\n      <td>1</td>\n      <td>1</td>\n      <td>1</td>\n      <td>1</td>\n      <td>1</td>\n      <td>0</td>\n    </tr>\n    <tr>\n      <th>26</th>\n      <td>0</td>\n      <td>53534</td>\n      <td>1</td>\n      <td>1</td>\n      <td>1</td>\n      <td>1</td>\n      <td>1</td>\n      <td>0</td>\n    </tr>\n    <tr>\n      <th>27</th>\n      <td>1</td>\n      <td>53534</td>\n      <td>1</td>\n      <td>1</td>\n      <td>1</td>\n      <td>1</td>\n      <td>1</td>\n      <td>0</td>\n    </tr>\n    <tr>\n      <th>28</th>\n      <td>0</td>\n      <td>1313</td>\n      <td>1</td>\n      <td>1</td>\n      <td>1</td>\n      <td>1</td>\n      <td>1</td>\n      <td>0</td>\n    </tr>\n    <tr>\n      <th>29</th>\n      <td>0</td>\n      <td>1313</td>\n      <td>1</td>\n      <td>1</td>\n      <td>1</td>\n      <td>1</td>\n      <td>1</td>\n      <td>0</td>\n    </tr>\n    <tr>\n      <th>...</th>\n      <td>...</td>\n      <td>...</td>\n      <td>...</td>\n      <td>...</td>\n      <td>...</td>\n      <td>...</td>\n      <td>...</td>\n      <td>...</td>\n    </tr>\n    <tr>\n      <th>21109</th>\n      <td>0</td>\n      <td>68964</td>\n      <td>1</td>\n      <td>1</td>\n      <td>1</td>\n      <td>1</td>\n      <td>1</td>\n      <td>0</td>\n    </tr>\n    <tr>\n      <th>21110</th>\n      <td>0</td>\n      <td>31130</td>\n      <td>1</td>\n      <td>1</td>\n      <td>1</td>\n      <td>1</td>\n      <td>1</td>\n      <td>0</td>\n    </tr>\n    <tr>\n      <th>21111</th>\n      <td>0</td>\n      <td>75526</td>\n      <td>1</td>\n      <td>1</td>\n      <td>1</td>\n      <td>1</td>\n      <td>1</td>\n      <td>1</td>\n    </tr>\n    <tr>\n      <th>21112</th>\n      <td>0</td>\n      <td>82534</td>\n      <td>1</td>\n      <td>1</td>\n      <td>0</td>\n      <td>1</td>\n      <td>0</td>\n      <td>0</td>\n    </tr>\n    <tr>\n      <th>21113</th>\n      <td>0</td>\n      <td>54559</td>\n      <td>1</td>\n      <td>1</td>\n      <td>1</td>\n      <td>1</td>\n      <td>1</td>\n      <td>0</td>\n    </tr>\n    <tr>\n      <th>21114</th>\n      <td>0</td>\n      <td>78101</td>\n      <td>0</td>\n      <td>1</td>\n      <td>1</td>\n      <td>0</td>\n      <td>1</td>\n      <td>0</td>\n    </tr>\n    <tr>\n      <th>21115</th>\n      <td>0</td>\n      <td>62884</td>\n      <td>0</td>\n      <td>1</td>\n      <td>0</td>\n      <td>1</td>\n      <td>0</td>\n      <td>0</td>\n    </tr>\n    <tr>\n      <th>21116</th>\n      <td>1</td>\n      <td>4884</td>\n      <td>1</td>\n      <td>1</td>\n      <td>1</td>\n      <td>1</td>\n      <td>1</td>\n      <td>0</td>\n    </tr>\n    <tr>\n      <th>21117</th>\n      <td>1</td>\n      <td>5886</td>\n      <td>1</td>\n      <td>1</td>\n      <td>1</td>\n      <td>0</td>\n      <td>1</td>\n      <td>1</td>\n    </tr>\n    <tr>\n      <th>21118</th>\n      <td>0</td>\n      <td>7024</td>\n      <td>1</td>\n      <td>1</td>\n      <td>1</td>\n      <td>1</td>\n      <td>0</td>\n      <td>0</td>\n    </tr>\n    <tr>\n      <th>21119</th>\n      <td>0</td>\n      <td>40599</td>\n      <td>1</td>\n      <td>1</td>\n      <td>1</td>\n      <td>1</td>\n      <td>1</td>\n      <td>0</td>\n    </tr>\n    <tr>\n      <th>21120</th>\n      <td>1</td>\n      <td>2332</td>\n      <td>1</td>\n      <td>1</td>\n      <td>1</td>\n      <td>0</td>\n      <td>0</td>\n      <td>0</td>\n    </tr>\n    <tr>\n      <th>21121</th>\n      <td>0</td>\n      <td>94232</td>\n      <td>1</td>\n      <td>1</td>\n      <td>1</td>\n      <td>1</td>\n      <td>1</td>\n      <td>1</td>\n    </tr>\n    <tr>\n      <th>21122</th>\n      <td>0</td>\n      <td>4177</td>\n      <td>1</td>\n      <td>1</td>\n      <td>1</td>\n      <td>0</td>\n      <td>0</td>\n      <td>1</td>\n    </tr>\n    <tr>\n      <th>21123</th>\n      <td>0</td>\n      <td>78380</td>\n      <td>1</td>\n      <td>1</td>\n      <td>1</td>\n      <td>0</td>\n      <td>0</td>\n      <td>1</td>\n    </tr>\n    <tr>\n      <th>21124</th>\n      <td>0</td>\n      <td>17791</td>\n      <td>0</td>\n      <td>1</td>\n      <td>1</td>\n      <td>1</td>\n      <td>1</td>\n      <td>0</td>\n    </tr>\n    <tr>\n      <th>21125</th>\n      <td>0</td>\n      <td>40706</td>\n      <td>1</td>\n      <td>1</td>\n      <td>1</td>\n      <td>1</td>\n      <td>1</td>\n      <td>0</td>\n    </tr>\n    <tr>\n      <th>21126</th>\n      <td>0</td>\n      <td>67722</td>\n      <td>1</td>\n      <td>1</td>\n      <td>1</td>\n      <td>1</td>\n      <td>1</td>\n      <td>0</td>\n    </tr>\n    <tr>\n      <th>21127</th>\n      <td>0</td>\n      <td>93229</td>\n      <td>1</td>\n      <td>1</td>\n      <td>1</td>\n      <td>1</td>\n      <td>1</td>\n      <td>1</td>\n    </tr>\n    <tr>\n      <th>21128</th>\n      <td>0</td>\n      <td>3602</td>\n      <td>1</td>\n      <td>1</td>\n      <td>0</td>\n      <td>0</td>\n      <td>0</td>\n      <td>1</td>\n    </tr>\n    <tr>\n      <th>21129</th>\n      <td>0</td>\n      <td>27457</td>\n      <td>0</td>\n      <td>1</td>\n      <td>1</td>\n      <td>0</td>\n      <td>0</td>\n      <td>0</td>\n    </tr>\n    <tr>\n      <th>21130</th>\n      <td>1</td>\n      <td>20587</td>\n      <td>1</td>\n      <td>1</td>\n      <td>1</td>\n      <td>0</td>\n      <td>1</td>\n      <td>1</td>\n    </tr>\n    <tr>\n      <th>21131</th>\n      <td>0</td>\n      <td>80344</td>\n      <td>1</td>\n      <td>1</td>\n      <td>1</td>\n      <td>0</td>\n      <td>1</td>\n      <td>1</td>\n    </tr>\n    <tr>\n      <th>21132</th>\n      <td>0</td>\n      <td>28031</td>\n      <td>1</td>\n      <td>1</td>\n      <td>1</td>\n      <td>1</td>\n      <td>1</td>\n      <td>0</td>\n    </tr>\n    <tr>\n      <th>21133</th>\n      <td>0</td>\n      <td>9805</td>\n      <td>1</td>\n      <td>1</td>\n      <td>1</td>\n      <td>1</td>\n      <td>1</td>\n      <td>0</td>\n    </tr>\n    <tr>\n      <th>21134</th>\n      <td>1</td>\n      <td>25180</td>\n      <td>1</td>\n      <td>1</td>\n      <td>0</td>\n      <td>1</td>\n      <td>1</td>\n      <td>0</td>\n    </tr>\n    <tr>\n      <th>21135</th>\n      <td>0</td>\n      <td>14484</td>\n      <td>1</td>\n      <td>1</td>\n      <td>0</td>\n      <td>0</td>\n      <td>1</td>\n      <td>0</td>\n    </tr>\n    <tr>\n      <th>21136</th>\n      <td>0</td>\n      <td>17321</td>\n      <td>1</td>\n      <td>1</td>\n      <td>1</td>\n      <td>1</td>\n      <td>1</td>\n      <td>0</td>\n    </tr>\n    <tr>\n      <th>21137</th>\n      <td>0</td>\n      <td>21375</td>\n      <td>1</td>\n      <td>1</td>\n      <td>1</td>\n      <td>1</td>\n      <td>1</td>\n      <td>0</td>\n    </tr>\n    <tr>\n      <th>21138</th>\n      <td>1</td>\n      <td>5665</td>\n      <td>0</td>\n      <td>1</td>\n      <td>1</td>\n      <td>0</td>\n      <td>1</td>\n      <td>0</td>\n    </tr>\n  </tbody>\n</table>\n<p>21139 rows × 8 columns</p>\n</div>"
     },
     "execution_count": 165,
     "metadata": {},
     "output_type": "execute_result"
    }
   ],
   "source": [
    "df"
   ],
   "metadata": {
    "collapsed": false
   }
  },
  {
   "cell_type": "code",
   "execution_count": 166,
   "outputs": [
    {
     "name": "stderr",
     "output_type": "stream",
     "text": [
      "C:\\Users\\syfan\\PycharmProjects\\mimic3-benchmarks\\venv\\lib\\site-packages\\ipykernel_launcher.py:2: FutureWarning:\n",
      "\n",
      "Sorting because non-concatenation axis is not aligned. A future version\n",
      "of pandas will change to not sort by default.\n",
      "\n",
      "To accept the future behavior, pass 'sort=False'.\n",
      "\n",
      "To retain the current behavior and silence the warning, pass 'sort=True'.\n",
      "\n",
      "\n"
     ]
    },
    {
     "data": {
      "text/plain": "    index   variable    value          label\n0       0        AGE  11588.0            65+\n1       1        AGE   9551.0            <65\n2       1  ETHNICITY  15005.0          White\n3       0  ETHNICITY   6134.0      Non-white\n4       1     GENDER  11629.0           Male\n5       0     GENDER   9510.0         Female\n6       1  INSURANCE  20957.0        Insured\n7       0  INSURANCE    182.0      Uninsured\n8       1   LANGUAGE  19310.0        English\n9       0   LANGUAGE   1829.0    Non-English\n10      1   RELIGION  17909.0      Christian\n11      0   RELIGION   3230.0  Non-christian",
      "text/html": "<div>\n<style scoped>\n    .dataframe tbody tr th:only-of-type {\n        vertical-align: middle;\n    }\n\n    .dataframe tbody tr th {\n        vertical-align: top;\n    }\n\n    .dataframe thead th {\n        text-align: right;\n    }\n</style>\n<table border=\"1\" class=\"dataframe\">\n  <thead>\n    <tr style=\"text-align: right;\">\n      <th></th>\n      <th>index</th>\n      <th>variable</th>\n      <th>value</th>\n      <th>label</th>\n    </tr>\n  </thead>\n  <tbody>\n    <tr>\n      <th>0</th>\n      <td>0</td>\n      <td>AGE</td>\n      <td>11588.0</td>\n      <td>65+</td>\n    </tr>\n    <tr>\n      <th>1</th>\n      <td>1</td>\n      <td>AGE</td>\n      <td>9551.0</td>\n      <td>&lt;65</td>\n    </tr>\n    <tr>\n      <th>2</th>\n      <td>1</td>\n      <td>ETHNICITY</td>\n      <td>15005.0</td>\n      <td>White</td>\n    </tr>\n    <tr>\n      <th>3</th>\n      <td>0</td>\n      <td>ETHNICITY</td>\n      <td>6134.0</td>\n      <td>Non-white</td>\n    </tr>\n    <tr>\n      <th>4</th>\n      <td>1</td>\n      <td>GENDER</td>\n      <td>11629.0</td>\n      <td>Male</td>\n    </tr>\n    <tr>\n      <th>5</th>\n      <td>0</td>\n      <td>GENDER</td>\n      <td>9510.0</td>\n      <td>Female</td>\n    </tr>\n    <tr>\n      <th>6</th>\n      <td>1</td>\n      <td>INSURANCE</td>\n      <td>20957.0</td>\n      <td>Insured</td>\n    </tr>\n    <tr>\n      <th>7</th>\n      <td>0</td>\n      <td>INSURANCE</td>\n      <td>182.0</td>\n      <td>Uninsured</td>\n    </tr>\n    <tr>\n      <th>8</th>\n      <td>1</td>\n      <td>LANGUAGE</td>\n      <td>19310.0</td>\n      <td>English</td>\n    </tr>\n    <tr>\n      <th>9</th>\n      <td>0</td>\n      <td>LANGUAGE</td>\n      <td>1829.0</td>\n      <td>Non-English</td>\n    </tr>\n    <tr>\n      <th>10</th>\n      <td>1</td>\n      <td>RELIGION</td>\n      <td>17909.0</td>\n      <td>Christian</td>\n    </tr>\n    <tr>\n      <th>11</th>\n      <td>0</td>\n      <td>RELIGION</td>\n      <td>3230.0</td>\n      <td>Non-christian</td>\n    </tr>\n  </tbody>\n</table>\n</div>"
     },
     "execution_count": 166,
     "metadata": {},
     "output_type": "execute_result"
    }
   ],
   "source": [
    "count_df = pd.concat(axis=0, ignore_index=True, objs=[\n",
    "    df[protected_attribute].value_counts().reset_index(drop=False) for protected_attribute in REAL_DISTRIBUTIONS.keys()\n",
    "])\n",
    "count_df = count_df.melt('index')\n",
    "count_df.dropna(axis=0, inplace=True)\n",
    "count_df.reset_index(inplace=True, drop=True)\n",
    "# count_df[\"majority\"] = np.where(count_df.index % 2, 0, 1)\n",
    "count_df.loc[:, \"label\"] = count_df.apply(lambda row: FRIENDLY_LABELS.get(row['variable']).get(row['index']), axis=1)\n",
    "count_df"
   ],
   "metadata": {
    "collapsed": false
   }
  },
  {
   "cell_type": "code",
   "execution_count": 167,
   "outputs": [
    {
     "data": {
      "text/plain": "'Female'"
     },
     "execution_count": 167,
     "metadata": {},
     "output_type": "execute_result"
    }
   ],
   "source": [
    "FRIENDLY_LABELS.get(\"GENDER\").get(0)"
   ],
   "metadata": {
    "collapsed": false
   }
  },
  {
   "cell_type": "code",
   "execution_count": 181,
   "outputs": [
    {
     "name": "stderr",
     "output_type": "stream",
     "text": [
      "C:\\Users\\syfan\\PycharmProjects\\mimic3-benchmarks\\venv\\lib\\site-packages\\seaborn\\categorical.py:3200: UserWarning:\n",
      "\n",
      "Setting `sharex=False` with `color=None` may cause different levels of the `x` variable to share colors. This will change in a future version.\n",
      "\n"
     ]
    },
    {
     "data": {
      "text/plain": "<Figure size 1500x500 with 6 Axes>",
      "image/png": "[encoded data removed]"
     },
     "metadata": {},
     "output_type": "display_data"
    }
   ],
   "source": [
    "# sns.set_style('whitegrid')\n",
    "# sns.set(font_scale = 1.5)\n",
    "g = sns.catplot(data=count_df[count_df.index.notnull()], x=\"label\", col=\"variable\", y=\"value\", kind='bar', sharex=False, palette=['#1c9e77', '#e72a8a'], aspect=.5)\n",
    "g.set_titles(\"{col_name}\")\n",
    "g.set_ylabels('Number of samples')\n",
    "g.set_xlabels('Protected Attribute')\n",
    "plt.suptitle(\"Privileged vs. Unprivileged Group Representation (#Samples)\")\n",
    "for ax in g.axes.flat[1:]:\n",
    "    sns.despine(ax=ax, left=True)\n",
    "for ax in g.axes.flat:\n",
    "    ax.set_xlabel(ax.get_title())\n",
    "    ax.set_title('')\n",
    "    ax.margins(x=0.05) # slightly more margin as a separation\n",
    "plt.subplots_adjust(wspace=0, bottom=0.18, left=0.06)\n",
    "# plt.legend(labels=['Majority Segment', 'Minority Segment'], labelcolor=['#1c9e77', '#e72a8a'])\n",
    "# plt.show()\n",
    "plt.savefig('./img/representationBar.pdf', format='pdf', bbox_inches=\"tight\")\n",
    "plt.savefig('./img/representationBar.png')"
   ],
   "metadata": {
    "collapsed": false
   }
  },
  {
   "cell_type": "markdown",
   "source": [
    "## Are there imbalances in the labels across groups, i.e., unevenly sampled populations?"
   ],
   "metadata": {
    "collapsed": false
   }
  },
  {
   "cell_type": "code",
   "execution_count": 169,
   "outputs": [
    {
     "data": {
      "text/plain": "       y_true  SUBJECT_ID  LANGUAGE  INSURANCE  RELIGION  ETHNICITY  GENDER  \\\n0           0       12797         1          1         0          1       0   \n1           0        9027         1          1         1          0       1   \n2           0       40386         1          1         1          1       0   \n3           0       48770         1          0         1          1       1   \n4           0       14037         1          1         1          1       1   \n5           1       15656         1          1         1          1       0   \n6           1       83338         1          1         1          1       0   \n7           0       21827         1          1         1          0       1   \n8           0       21827         1          1         1          0       1   \n9           0       20226         1          1         1          1       0   \n10          1       26578         1          1         1          1       1   \n11          1        9200         1          1         1          1       1   \n12          0       15881         1          1         0          1       0   \n13          0       59005         1          1         0          1       1   \n14          1       14276         1          1         1          1       1   \n15          0       81660         1          1         1          1       0   \n16          0       81660         1          1         1          1       0   \n17          0       81660         1          1         1          1       0   \n18          0       28279         1          1         1          1       1   \n19          1       15259         1          1         0          1       1   \n20          0       24133         0          1         0          1       0   \n21          0       92525         1          1         1          1       1   \n22          0       92525         1          1         1          1       1   \n23          0       28068         0          1         1          0       1   \n24          0       72540         1          1         0          1       1   \n25          0       53534         1          1         1          1       1   \n26          0       53534         1          1         1          1       1   \n27          1       53534         1          1         1          1       1   \n28          0        1313         1          1         1          1       1   \n29          0        1313         1          1         1          1       1   \n...       ...         ...       ...        ...       ...        ...     ...   \n21109       0       68964         1          1         1          1       1   \n21110       0       31130         1          1         1          1       1   \n21111       0       75526         1          1         1          1       1   \n21112       0       82534         1          1         0          1       0   \n21113       0       54559         1          1         1          1       1   \n21114       0       78101         0          1         1          0       1   \n21115       0       62884         0          1         0          1       0   \n21116       1        4884         1          1         1          1       1   \n21117       1        5886         1          1         1          0       1   \n21118       0        7024         1          1         1          1       0   \n21119       0       40599         1          1         1          1       1   \n21120       1        2332         1          1         1          0       0   \n21121       0       94232         1          1         1          1       1   \n21122       0        4177         1          1         1          0       0   \n21123       0       78380         1          1         1          0       0   \n21124       0       17791         0          1         1          1       1   \n21125       0       40706         1          1         1          1       1   \n21126       0       67722         1          1         1          1       1   \n21127       0       93229         1          1         1          1       1   \n21128       0        3602         1          1         0          0       0   \n21129       0       27457         0          1         1          0       0   \n21130       1       20587         1          1         1          0       1   \n21131       0       80344         1          1         1          0       1   \n21132       0       28031         1          1         1          1       1   \n21133       0        9805         1          1         1          1       1   \n21134       1       25180         1          1         0          1       1   \n21135       0       14484         1          1         0          0       1   \n21136       0       17321         1          1         1          1       1   \n21137       0       21375         1          1         1          1       1   \n21138       1        5665         0          1         1          0       1   \n\n       AGE  \n0        0  \n1        1  \n2        0  \n3        1  \n4        1  \n5        0  \n6        0  \n7        0  \n8        0  \n9        0  \n10       0  \n11       0  \n12       1  \n13       1  \n14       1  \n15       1  \n16       1  \n17       1  \n18       1  \n19       0  \n20       0  \n21       1  \n22       1  \n23       0  \n24       0  \n25       0  \n26       0  \n27       0  \n28       0  \n29       0  \n...    ...  \n21109    0  \n21110    0  \n21111    1  \n21112    0  \n21113    0  \n21114    0  \n21115    0  \n21116    0  \n21117    1  \n21118    0  \n21119    0  \n21120    0  \n21121    1  \n21122    1  \n21123    1  \n21124    0  \n21125    0  \n21126    0  \n21127    1  \n21128    1  \n21129    0  \n21130    1  \n21131    1  \n21132    0  \n21133    0  \n21134    0  \n21135    0  \n21136    0  \n21137    0  \n21138    0  \n\n[21139 rows x 8 columns]",
      "text/html": "<div>\n<style scoped>\n    .dataframe tbody tr th:only-of-type {\n        vertical-align: middle;\n    }\n\n    .dataframe tbody tr th {\n        vertical-align: top;\n    }\n\n    .dataframe thead th {\n        text-align: right;\n    }\n</style>\n<table border=\"1\" class=\"dataframe\">\n  <thead>\n    <tr style=\"text-align: right;\">\n      <th></th>\n      <th>y_true</th>\n      <th>SUBJECT_ID</th>\n      <th>LANGUAGE</th>\n      <th>INSURANCE</th>\n      <th>RELIGION</th>\n      <th>ETHNICITY</th>\n      <th>GENDER</th>\n      <th>AGE</th>\n    </tr>\n  </thead>\n  <tbody>\n    <tr>\n      <th>0</th>\n      <td>0</td>\n      <td>12797</td>\n      <td>1</td>\n      <td>1</td>\n      <td>0</td>\n      <td>1</td>\n      <td>0</td>\n      <td>0</td>\n    </tr>\n    <tr>\n      <th>1</th>\n      <td>0</td>\n      <td>9027</td>\n      <td>1</td>\n      <td>1</td>\n      <td>1</td>\n      <td>0</td>\n      <td>1</td>\n      <td>1</td>\n    </tr>\n    <tr>\n      <th>2</th>\n      <td>0</td>\n      <td>40386</td>\n      <td>1</td>\n      <td>1</td>\n      <td>1</td>\n      <td>1</td>\n      <td>0</td>\n      <td>0</td>\n    </tr>\n    <tr>\n      <th>3</th>\n      <td>0</td>\n      <td>48770</td>\n      <td>1</td>\n      <td>0</td>\n      <td>1</td>\n      <td>1</td>\n      <td>1</td>\n      <td>1</td>\n    </tr>\n    <tr>\n      <th>4</th>\n      <td>0</td>\n      <td>14037</td>\n      <td>1</td>\n      <td>1</td>\n      <td>1</td>\n      <td>1</td>\n      <td>1</td>\n      <td>1</td>\n    </tr>\n    <tr>\n      <th>5</th>\n      <td>1</td>\n      <td>15656</td>\n      <td>1</td>\n      <td>1</td>\n      <td>1</td>\n      <td>1</td>\n      <td>0</td>\n      <td>0</td>\n    </tr>\n    <tr>\n      <th>6</th>\n      <td>1</td>\n      <td>83338</td>\n      <td>1</td>\n      <td>1</td>\n      <td>1</td>\n      <td>1</td>\n      <td>0</td>\n      <td>0</td>\n    </tr>\n    <tr>\n      <th>7</th>\n      <td>0</td>\n      <td>21827</td>\n      <td>1</td>\n      <td>1</td>\n      <td>1</td>\n      <td>0</td>\n      <td>1</td>\n      <td>0</td>\n    </tr>\n    <tr>\n      <th>8</th>\n      <td>0</td>\n      <td>21827</td>\n      <td>1</td>\n      <td>1</td>\n      <td>1</td>\n      <td>0</td>\n      <td>1</td>\n      <td>0</td>\n    </tr>\n    <tr>\n      <th>9</th>\n      <td>0</td>\n      <td>20226</td>\n      <td>1</td>\n      <td>1</td>\n      <td>1</td>\n      <td>1</td>\n      <td>0</td>\n      <td>0</td>\n    </tr>\n    <tr>\n      <th>10</th>\n      <td>1</td>\n      <td>26578</td>\n      <td>1</td>\n      <td>1</td>\n      <td>1</td>\n      <td>1</td>\n      <td>1</td>\n      <td>0</td>\n    </tr>\n    <tr>\n      <th>11</th>\n      <td>1</td>\n      <td>9200</td>\n      <td>1</td>\n      <td>1</td>\n      <td>1</td>\n      <td>1</td>\n      <td>1</td>\n      <td>0</td>\n    </tr>\n    <tr>\n      <th>12</th>\n      <td>0</td>\n      <td>15881</td>\n      <td>1</td>\n      <td>1</td>\n      <td>0</td>\n      <td>1</td>\n      <td>0</td>\n      <td>1</td>\n    </tr>\n    <tr>\n      <th>13</th>\n      <td>0</td>\n      <td>59005</td>\n      <td>1</td>\n      <td>1</td>\n      <td>0</td>\n      <td>1</td>\n      <td>1</td>\n      <td>1</td>\n    </tr>\n    <tr>\n      <th>14</th>\n      <td>1</td>\n      <td>14276</td>\n      <td>1</td>\n      <td>1</td>\n      <td>1</td>\n      <td>1</td>\n      <td>1</td>\n      <td>1</td>\n    </tr>\n    <tr>\n      <th>15</th>\n      <td>0</td>\n      <td>81660</td>\n      <td>1</td>\n      <td>1</td>\n      <td>1</td>\n      <td>1</td>\n      <td>0</td>\n      <td>1</td>\n    </tr>\n    <tr>\n      <th>16</th>\n      <td>0</td>\n      <td>81660</td>\n      <td>1</td>\n      <td>1</td>\n      <td>1</td>\n      <td>1</td>\n      <td>0</td>\n      <td>1</td>\n    </tr>\n    <tr>\n      <th>17</th>\n      <td>0</td>\n      <td>81660</td>\n      <td>1</td>\n      <td>1</td>\n      <td>1</td>\n      <td>1</td>\n      <td>0</td>\n      <td>1</td>\n    </tr>\n    <tr>\n      <th>18</th>\n      <td>0</td>\n      <td>28279</td>\n      <td>1</td>\n      <td>1</td>\n      <td>1</td>\n      <td>1</td>\n      <td>1</td>\n      <td>1</td>\n    </tr>\n    <tr>\n      <th>19</th>\n      <td>1</td>\n      <td>15259</td>\n      <td>1</td>\n      <td>1</td>\n      <td>0</td>\n      <td>1</td>\n      <td>1</td>\n      <td>0</td>\n    </tr>\n    <tr>\n      <th>20</th>\n      <td>0</td>\n      <td>24133</td>\n      <td>0</td>\n      <td>1</td>\n      <td>0</td>\n      <td>1</td>\n      <td>0</td>\n      <td>0</td>\n    </tr>\n    <tr>\n      <th>21</th>\n      <td>0</td>\n      <td>92525</td>\n      <td>1</td>\n      <td>1</td>\n      <td>1</td>\n      <td>1</td>\n      <td>1</td>\n      <td>1</td>\n    </tr>\n    <tr>\n      <th>22</th>\n      <td>0</td>\n      <td>92525</td>\n      <td>1</td>\n      <td>1</td>\n      <td>1</td>\n      <td>1</td>\n      <td>1</td>\n      <td>1</td>\n    </tr>\n    <tr>\n      <th>23</th>\n      <td>0</td>\n      <td>28068</td>\n      <td>0</td>\n      <td>1</td>\n      <td>1</td>\n      <td>0</td>\n      <td>1</td>\n      <td>0</td>\n    </tr>\n    <tr>\n      <th>24</th>\n      <td>0</td>\n      <td>72540</td>\n      <td>1</td>\n      <td>1</td>\n      <td>0</td>\n      <td>1</td>\n      <td>1</td>\n      <td>0</td>\n    </tr>\n    <tr>\n      <th>25</th>\n      <td>0</td>\n      <td>53534</td>\n      <td>1</td>\n      <td>1</td>\n      <td>1</td>\n      <td>1</td>\n      <td>1</td>\n      <td>0</td>\n    </tr>\n    <tr>\n      <th>26</th>\n      <td>0</td>\n      <td>53534</td>\n      <td>1</td>\n      <td>1</td>\n      <td>1</td>\n      <td>1</td>\n      <td>1</td>\n      <td>0</td>\n    </tr>\n    <tr>\n      <th>27</th>\n      <td>1</td>\n      <td>53534</td>\n      <td>1</td>\n      <td>1</td>\n      <td>1</td>\n      <td>1</td>\n      <td>1</td>\n      <td>0</td>\n    </tr>\n    <tr>\n      <th>28</th>\n      <td>0</td>\n      <td>1313</td>\n      <td>1</td>\n      <td>1</td>\n      <td>1</td>\n      <td>1</td>\n      <td>1</td>\n      <td>0</td>\n    </tr>\n    <tr>\n      <th>29</th>\n      <td>0</td>\n      <td>1313</td>\n      <td>1</td>\n      <td>1</td>\n      <td>1</td>\n      <td>1</td>\n      <td>1</td>\n      <td>0</td>\n    </tr>\n    <tr>\n      <th>...</th>\n      <td>...</td>\n      <td>...</td>\n      <td>...</td>\n      <td>...</td>\n      <td>...</td>\n      <td>...</td>\n      <td>...</td>\n      <td>...</td>\n    </tr>\n    <tr>\n      <th>21109</th>\n      <td>0</td>\n      <td>68964</td>\n      <td>1</td>\n      <td>1</td>\n      <td>1</td>\n      <td>1</td>\n      <td>1</td>\n      <td>0</td>\n    </tr>\n    <tr>\n      <th>21110</th>\n      <td>0</td>\n      <td>31130</td>\n      <td>1</td>\n      <td>1</td>\n      <td>1</td>\n      <td>1</td>\n      <td>1</td>\n      <td>0</td>\n    </tr>\n    <tr>\n      <th>21111</th>\n      <td>0</td>\n      <td>75526</td>\n      <td>1</td>\n      <td>1</td>\n      <td>1</td>\n      <td>1</td>\n      <td>1</td>\n      <td>1</td>\n    </tr>\n    <tr>\n      <th>21112</th>\n      <td>0</td>\n      <td>82534</td>\n      <td>1</td>\n      <td>1</td>\n      <td>0</td>\n      <td>1</td>\n      <td>0</td>\n      <td>0</td>\n    </tr>\n    <tr>\n      <th>21113</th>\n      <td>0</td>\n      <td>54559</td>\n      <td>1</td>\n      <td>1</td>\n      <td>1</td>\n      <td>1</td>\n      <td>1</td>\n      <td>0</td>\n    </tr>\n    <tr>\n      <th>21114</th>\n      <td>0</td>\n      <td>78101</td>\n      <td>0</td>\n      <td>1</td>\n      <td>1</td>\n      <td>0</td>\n      <td>1</td>\n      <td>0</td>\n    </tr>\n    <tr>\n      <th>21115</th>\n      <td>0</td>\n      <td>62884</td>\n      <td>0</td>\n      <td>1</td>\n      <td>0</td>\n      <td>1</td>\n      <td>0</td>\n      <td>0</td>\n    </tr>\n    <tr>\n      <th>21116</th>\n      <td>1</td>\n      <td>4884</td>\n      <td>1</td>\n      <td>1</td>\n      <td>1</td>\n      <td>1</td>\n      <td>1</td>\n      <td>0</td>\n    </tr>\n    <tr>\n      <th>21117</th>\n      <td>1</td>\n      <td>5886</td>\n      <td>1</td>\n      <td>1</td>\n      <td>1</td>\n      <td>0</td>\n      <td>1</td>\n      <td>1</td>\n    </tr>\n    <tr>\n      <th>21118</th>\n      <td>0</td>\n      <td>7024</td>\n      <td>1</td>\n      <td>1</td>\n      <td>1</td>\n      <td>1</td>\n      <td>0</td>\n      <td>0</td>\n    </tr>\n    <tr>\n      <th>21119</th>\n      <td>0</td>\n      <td>40599</td>\n      <td>1</td>\n      <td>1</td>\n      <td>1</td>\n      <td>1</td>\n      <td>1</td>\n      <td>0</td>\n    </tr>\n    <tr>\n      <th>21120</th>\n      <td>1</td>\n      <td>2332</td>\n      <td>1</td>\n      <td>1</td>\n      <td>1</td>\n      <td>0</td>\n      <td>0</td>\n      <td>0</td>\n    </tr>\n    <tr>\n      <th>21121</th>\n      <td>0</td>\n      <td>94232</td>\n      <td>1</td>\n      <td>1</td>\n      <td>1</td>\n      <td>1</td>\n      <td>1</td>\n      <td>1</td>\n    </tr>\n    <tr>\n      <th>21122</th>\n      <td>0</td>\n      <td>4177</td>\n      <td>1</td>\n      <td>1</td>\n      <td>1</td>\n      <td>0</td>\n      <td>0</td>\n      <td>1</td>\n    </tr>\n    <tr>\n      <th>21123</th>\n      <td>0</td>\n      <td>78380</td>\n      <td>1</td>\n      <td>1</td>\n      <td>1</td>\n      <td>0</td>\n      <td>0</td>\n      <td>1</td>\n    </tr>\n    <tr>\n      <th>21124</th>\n      <td>0</td>\n      <td>17791</td>\n      <td>0</td>\n      <td>1</td>\n      <td>1</td>\n      <td>1</td>\n      <td>1</td>\n      <td>0</td>\n    </tr>\n    <tr>\n      <th>21125</th>\n      <td>0</td>\n      <td>40706</td>\n      <td>1</td>\n      <td>1</td>\n      <td>1</td>\n      <td>1</td>\n      <td>1</td>\n      <td>0</td>\n    </tr>\n    <tr>\n      <th>21126</th>\n      <td>0</td>\n      <td>67722</td>\n      <td>1</td>\n      <td>1</td>\n      <td>1</td>\n      <td>1</td>\n      <td>1</td>\n      <td>0</td>\n    </tr>\n    <tr>\n      <th>21127</th>\n      <td>0</td>\n      <td>93229</td>\n      <td>1</td>\n      <td>1</td>\n      <td>1</td>\n      <td>1</td>\n      <td>1</td>\n      <td>1</td>\n    </tr>\n    <tr>\n      <th>21128</th>\n      <td>0</td>\n      <td>3602</td>\n      <td>1</td>\n      <td>1</td>\n      <td>0</td>\n      <td>0</td>\n      <td>0</td>\n      <td>1</td>\n    </tr>\n    <tr>\n      <th>21129</th>\n      <td>0</td>\n      <td>27457</td>\n      <td>0</td>\n      <td>1</td>\n      <td>1</td>\n      <td>0</td>\n      <td>0</td>\n      <td>0</td>\n    </tr>\n    <tr>\n      <th>21130</th>\n      <td>1</td>\n      <td>20587</td>\n      <td>1</td>\n      <td>1</td>\n      <td>1</td>\n      <td>0</td>\n      <td>1</td>\n      <td>1</td>\n    </tr>\n    <tr>\n      <th>21131</th>\n      <td>0</td>\n      <td>80344</td>\n      <td>1</td>\n      <td>1</td>\n      <td>1</td>\n      <td>0</td>\n      <td>1</td>\n      <td>1</td>\n    </tr>\n    <tr>\n      <th>21132</th>\n      <td>0</td>\n      <td>28031</td>\n      <td>1</td>\n      <td>1</td>\n      <td>1</td>\n      <td>1</td>\n      <td>1</td>\n      <td>0</td>\n    </tr>\n    <tr>\n      <th>21133</th>\n      <td>0</td>\n      <td>9805</td>\n      <td>1</td>\n      <td>1</td>\n      <td>1</td>\n      <td>1</td>\n      <td>1</td>\n      <td>0</td>\n    </tr>\n    <tr>\n      <th>21134</th>\n      <td>1</td>\n      <td>25180</td>\n      <td>1</td>\n      <td>1</td>\n      <td>0</td>\n      <td>1</td>\n      <td>1</td>\n      <td>0</td>\n    </tr>\n    <tr>\n      <th>21135</th>\n      <td>0</td>\n      <td>14484</td>\n      <td>1</td>\n      <td>1</td>\n      <td>0</td>\n      <td>0</td>\n      <td>1</td>\n      <td>0</td>\n    </tr>\n    <tr>\n      <th>21136</th>\n      <td>0</td>\n      <td>17321</td>\n      <td>1</td>\n      <td>1</td>\n      <td>1</td>\n      <td>1</td>\n      <td>1</td>\n      <td>0</td>\n    </tr>\n    <tr>\n      <th>21137</th>\n      <td>0</td>\n      <td>21375</td>\n      <td>1</td>\n      <td>1</td>\n      <td>1</td>\n      <td>1</td>\n      <td>1</td>\n      <td>0</td>\n    </tr>\n    <tr>\n      <th>21138</th>\n      <td>1</td>\n      <td>5665</td>\n      <td>0</td>\n      <td>1</td>\n      <td>1</td>\n      <td>0</td>\n      <td>1</td>\n      <td>0</td>\n    </tr>\n  </tbody>\n</table>\n<p>21139 rows × 8 columns</p>\n</div>"
     },
     "execution_count": 169,
     "metadata": {},
     "output_type": "execute_result"
    }
   ],
   "source": [
    "df"
   ],
   "metadata": {
    "collapsed": false
   }
  },
  {
   "cell_type": "code",
   "execution_count": 170,
   "outputs": [
    {
     "name": "stdout",
     "output_type": "stream",
     "text": [
      "\n",
      "Evaluating Outcome Bias for GENDER\n",
      "Group Fairness - Mean Difference: 0.004718858425204919\n",
      "Group Fairness - Disparate Impact Ratio: 1.0054547640237874\n",
      "\n",
      "Evaluating Outcome Bias for ETHNICITY\n",
      "Group Fairness - Mean Difference: 0.010422838077993157\n",
      "Group Fairness - Disparate Impact Ratio: 1.0121155370040573\n",
      "\n",
      "Evaluating Outcome Bias for LANGUAGE\n",
      "Group Fairness - Mean Difference: 0.002990543912606558\n",
      "Group Fairness - Disparate Impact Ratio: 1.003457461957116\n",
      "\n",
      "Evaluating Outcome Bias for INSURANCE\n",
      "Group Fairness - Mean Difference: 0.038345130557756346\n",
      "Group Fairness - Disparate Impact Ratio: 1.0462173096788852\n",
      "\n",
      "Evaluating Outcome Bias for RELIGION\n",
      "Group Fairness - Mean Difference: 0.0038822343505789947\n",
      "Group Fairness - Disparate Impact Ratio: 1.0044912668167514\n",
      "\n",
      "Evaluating Outcome Bias for AGE\n",
      "Group Fairness - Mean Difference: 0.06183297109603303\n",
      "Group Fairness - Disparate Impact Ratio: 1.0736327683753808\n"
     ]
    },
    {
     "data": {
      "text/plain": "  protected_attribute  mean_difference  disparate_impact_ratio\n0              GENDER         0.004719                1.005455\n1           ETHNICITY         0.010423                1.012116\n2            LANGUAGE         0.002991                1.003457\n3           INSURANCE         0.038345                1.046217\n4            RELIGION         0.003882                1.004491\n5                 AGE         0.061833                1.073633",
      "text/html": "<div>\n<style scoped>\n    .dataframe tbody tr th:only-of-type {\n        vertical-align: middle;\n    }\n\n    .dataframe tbody tr th {\n        vertical-align: top;\n    }\n\n    .dataframe thead th {\n        text-align: right;\n    }\n</style>\n<table border=\"1\" class=\"dataframe\">\n  <thead>\n    <tr style=\"text-align: right;\">\n      <th></th>\n      <th>protected_attribute</th>\n      <th>mean_difference</th>\n      <th>disparate_impact_ratio</th>\n    </tr>\n  </thead>\n  <tbody>\n    <tr>\n      <th>0</th>\n      <td>GENDER</td>\n      <td>0.004719</td>\n      <td>1.005455</td>\n    </tr>\n    <tr>\n      <th>1</th>\n      <td>ETHNICITY</td>\n      <td>0.010423</td>\n      <td>1.012116</td>\n    </tr>\n    <tr>\n      <th>2</th>\n      <td>LANGUAGE</td>\n      <td>0.002991</td>\n      <td>1.003457</td>\n    </tr>\n    <tr>\n      <th>3</th>\n      <td>INSURANCE</td>\n      <td>0.038345</td>\n      <td>1.046217</td>\n    </tr>\n    <tr>\n      <th>4</th>\n      <td>RELIGION</td>\n      <td>0.003882</td>\n      <td>1.004491</td>\n    </tr>\n    <tr>\n      <th>5</th>\n      <td>AGE</td>\n      <td>0.061833</td>\n      <td>1.073633</td>\n    </tr>\n  </tbody>\n</table>\n</div>"
     },
     "execution_count": 170,
     "metadata": {},
     "output_type": "execute_result"
    }
   ],
   "source": [
    "dataset = StandardDataset(df,\n",
    "                          label_name='y_true',\n",
    "                          favorable_classes=[0],  # non-mortality is the favorable outcome\n",
    "                          protected_attribute_names=list(REAL_DISTRIBUTIONS.keys()),\n",
    "                          privileged_classes=[[0], [0], [0], [0], [0], [0]])\n",
    "\n",
    "bias_columns_metric = pd.DataFrame(columns=['protected_attribute', 'mean_difference', 'disparate_impact_ratio'])\n",
    "for attr in dataset.protected_attribute_names:\n",
    "    print(\"\\nEvaluating Outcome Bias for {}\".format(attr))\n",
    "    idx = dataset.protected_attribute_names.index(attr)\n",
    "    privileged_groups = [{attr: dataset.privileged_protected_attributes[idx][0]}]\n",
    "    unprivileged_groups = [{attr: dataset.unprivileged_protected_attributes[idx][0]}]\n",
    "\n",
    "    metric_data = BinaryLabelDatasetMetric(dataset, unprivileged_groups=unprivileged_groups,\n",
    "                                           privileged_groups=privileged_groups)\n",
    "    bias_columns_metric.loc[len(bias_columns_metric.index)] = [attr, metric_data.mean_difference(), metric_data.disparate_impact()]\n",
    "    print(\"Group Fairness - Mean Difference: {}\".format(metric_data.mean_difference()))\n",
    "    print(\"Group Fairness - Disparate Impact Ratio: {}\".format(metric_data.disparate_impact()))\n",
    "bias_columns_metric.head(10)"
   ],
   "metadata": {
    "collapsed": false
   }
  },
  {
   "cell_type": "code",
   "execution_count": 171,
   "outputs": [
    {
     "data": {
      "text/plain": "<Figure size 640x480 with 1 Axes>",
      "image/png": "[encoded data removed]"
     },
     "metadata": {},
     "output_type": "display_data"
    }
   ],
   "source": [
    "# plt.rcParams.update({'font.size': 15})\n",
    "# plt.rcParams[\"font.weight\"] = \"bold\"\n",
    "plt.rcParams[\"axes.labelweight\"] = \"bold\"\n",
    "ax = bias_columns_metric[['protected_attribute', 'disparate_impact_ratio']].plot(kind='barh', colormap='Dark2')\n",
    "ax.set_ylabel('Protected Attribute')\n",
    "ax.set_xlabel('Disparate Impact Ratio')\n",
    "ax.get_legend().remove()\n",
    "ax.set_yticklabels(bias_columns_metric['protected_attribute'])\n",
    "\n",
    "plt.axvline(x=1.0, color='#e72a8a', linestyle='--')\n",
    "plt.axvspan(0.8, 1.25, facecolor='#e72a8a', alpha=0.1)\n",
    "plt.text(1.01,0,'Optimal Value', rotation=270)\n",
    "plt.title(\"Disparate Impact Ratio for Protected Attributes\")\n",
    "plt.savefig('./img/representationDIR.pdf', format='pdf', bbox_inches=\"tight\")\n",
    "plt.savefig('./img/representationDIR.png', bbox_inches=\"tight\")\n",
    "# plt.show()"
   ],
   "metadata": {
    "collapsed": false
   }
  },
  {
   "cell_type": "code",
   "execution_count": 171,
   "outputs": [],
   "source": [],
   "metadata": {
    "collapsed": false
   }
  }
 ],
 "metadata": {
  "kernelspec": {
   "display_name": "Python 3",
   "language": "python",
   "name": "python3"
  },
  "language_info": {
   "codemirror_mode": {
    "name": "ipython",
    "version": 2
   },
   "file_extension": ".py",
   "mimetype": "text/x-python",
   "name": "python",
   "nbconvert_exporter": "python",
   "pygments_lexer": "ipython2",
   "version": "2.7.6"
  }
 },
 "nbformat": 4,
 "nbformat_minor": 0
}
