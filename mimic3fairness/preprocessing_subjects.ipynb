{
 "cells": [
  {
   "cell_type": "code",
   "execution_count": 209,
   "metadata": {
    "collapsed": true
   },
   "outputs": [],
   "source": [
    "import numpy as np\n",
    "import pandas as pd\n",
    "import os\n",
    "\n",
    "from matplotlib import pyplot as plt\n",
    "from sklearn.preprocessing import OneHotEncoder\n",
    "\n",
    "mimic3_path = os.path.join(os.path.normpath(os.getcwd() + os.sep + os.pardir), 'data')"
   ]
  },
  {
   "cell_type": "code",
   "execution_count": 210,
   "outputs": [],
   "source": [
    "# preprocessing functions\n",
    "# nan values are assigned the privileged class\n",
    "def get_religion_category(religion):\n",
    "    if (religion == \"JEWISH\") or (religion == \"OTHER\") or (religion == \"BUDDHIST\") or (religion == \"MUSLIM\") or (religion == \"HINDU\") or (religion == \"HEBREW\"):\n",
    "        return 0  # unprivileged\n",
    "    return 1  # privileged\n",
    "\n",
    "def get_language_category(lang):\n",
    "    if (lang == \"ENGL\") or pd.isna(lang):\n",
    "        return 1  # privileged\n",
    "    return 0  # unprivileged\n",
    "\n",
    "def get_age(df):\n",
    "    adm.ADMITTIME = pd.to_datetime(adm.ADMITTIME).dt.date\n",
    "    adm.DOB = pd.to_datetime(adm.DOB).dt.date\n",
    "    adm['AGE'] = adm.apply(lambda e:int((e.ADMITTIME - e.DOB).days/365.242), axis=1)\n",
    "    adm.loc[adm.AGE <= 0, 'AGE'] = 90\n",
    "    adm.loc[adm.AGE >= 300, 'AGE'] = 90\n",
    "    return df\n",
    "\n",
    "def get_age_category(age):\n",
    "    if age<65 or pd.isna(age):\n",
    "        return 1  # privileged <65 plus nans\n",
    "    return 0  # unprivileged 65+\n",
    "\n",
    "def get_insurance_category(insurance):\n",
    "    # considers government insurance in unprivileged class\n",
    "    # if insurance == \"Private\" or pd.isna(insurance):\n",
    "    #     return 1  # privileged\n",
    "    # return 0  # unprivileged\n",
    "\n",
    "    # considers only uninsured in unprivileged class\n",
    "    if insurance == \"Self Pay\":\n",
    "        return 0\n",
    "    return 1\n",
    "\n",
    "def get_ethnicity_category(ethnicity):\n",
    "    if (\"WHITE\" in ethnicity) or (pd.isna(ethnicity)):\n",
    "        return 1  # privileged\n",
    "    return 0  # unprivileged"
   ],
   "metadata": {
    "collapsed": false
   }
  },
  {
   "cell_type": "code",
   "execution_count": 211,
   "outputs": [],
   "source": [
    "patients = pd.read_csv(os.path.join(mimic3_path, 'PATIENTS.csv'))\n",
    "adm = pd.read_csv(os.path.join(mimic3_path, 'ADMISSIONS.csv'))"
   ],
   "metadata": {
    "collapsed": false
   }
  },
  {
   "cell_type": "code",
   "execution_count": 212,
   "outputs": [],
   "source": [
    "# keep only necessary columns\n",
    "patients = patients[['SUBJECT_ID', 'GENDER', 'DOB']]\n",
    "adm = adm[['SUBJECT_ID', 'LANGUAGE', 'INSURANCE', 'RELIGION', 'ETHNICITY', 'ADMITTIME']]"
   ],
   "metadata": {
    "collapsed": false
   }
  },
  {
   "cell_type": "code",
   "execution_count": 213,
   "outputs": [
    {
     "data": {
      "text/plain": "    SUBJECT_ID GENDER                  DOB\n0          249      F  2075-03-13 00:00:00\n1          250      F  2164-12-27 00:00:00\n2          251      M  2090-03-15 00:00:00\n3          252      M  2078-03-06 00:00:00\n4          253      F  2089-11-26 00:00:00\n..         ...    ...                  ...\n95         744      M  2024-05-24 00:00:00\n96         745      M  2142-06-14 00:00:00\n97         746      M  2085-06-02 00:00:00\n98         747      M  2063-03-10 00:00:00\n99         748      M  2081-07-13 00:00:00\n\n[100 rows x 3 columns]",
      "text/html": "<div>\n<style scoped>\n    .dataframe tbody tr th:only-of-type {\n        vertical-align: middle;\n    }\n\n    .dataframe tbody tr th {\n        vertical-align: top;\n    }\n\n    .dataframe thead th {\n        text-align: right;\n    }\n</style>\n<table border=\"1\" class=\"dataframe\">\n  <thead>\n    <tr style=\"text-align: right;\">\n      <th></th>\n      <th>SUBJECT_ID</th>\n      <th>GENDER</th>\n      <th>DOB</th>\n    </tr>\n  </thead>\n  <tbody>\n    <tr>\n      <th>0</th>\n      <td>249</td>\n      <td>F</td>\n      <td>2075-03-13 00:00:00</td>\n    </tr>\n    <tr>\n      <th>1</th>\n      <td>250</td>\n      <td>F</td>\n      <td>2164-12-27 00:00:00</td>\n    </tr>\n    <tr>\n      <th>2</th>\n      <td>251</td>\n      <td>M</td>\n      <td>2090-03-15 00:00:00</td>\n    </tr>\n    <tr>\n      <th>3</th>\n      <td>252</td>\n      <td>M</td>\n      <td>2078-03-06 00:00:00</td>\n    </tr>\n    <tr>\n      <th>4</th>\n      <td>253</td>\n      <td>F</td>\n      <td>2089-11-26 00:00:00</td>\n    </tr>\n    <tr>\n      <th>...</th>\n      <td>...</td>\n      <td>...</td>\n      <td>...</td>\n    </tr>\n    <tr>\n      <th>95</th>\n      <td>744</td>\n      <td>M</td>\n      <td>2024-05-24 00:00:00</td>\n    </tr>\n    <tr>\n      <th>96</th>\n      <td>745</td>\n      <td>M</td>\n      <td>2142-06-14 00:00:00</td>\n    </tr>\n    <tr>\n      <th>97</th>\n      <td>746</td>\n      <td>M</td>\n      <td>2085-06-02 00:00:00</td>\n    </tr>\n    <tr>\n      <th>98</th>\n      <td>747</td>\n      <td>M</td>\n      <td>2063-03-10 00:00:00</td>\n    </tr>\n    <tr>\n      <th>99</th>\n      <td>748</td>\n      <td>M</td>\n      <td>2081-07-13 00:00:00</td>\n    </tr>\n  </tbody>\n</table>\n<p>100 rows × 3 columns</p>\n</div>"
     },
     "execution_count": 213,
     "metadata": {},
     "output_type": "execute_result"
    }
   ],
   "source": [
    "patients.head(100)"
   ],
   "metadata": {
    "collapsed": false
   }
  },
  {
   "cell_type": "code",
   "execution_count": 214,
   "outputs": [
    {
     "data": {
      "text/plain": "    SUBJECT_ID LANGUAGE INSURANCE           RELIGION ETHNICITY  \\\n0           22      NaN   Private       UNOBTAINABLE     WHITE   \n1           23      NaN  Medicare           CATHOLIC     WHITE   \n2           23     ENGL  Medicare           CATHOLIC     WHITE   \n3           24      NaN   Private  PROTESTANT QUAKER     WHITE   \n4           25      NaN   Private       UNOBTAINABLE     WHITE   \n..         ...      ...       ...                ...       ...   \n95          91      NaN  Medicare             JEWISH     WHITE   \n96          92      NaN  Medicaid       UNOBTAINABLE     WHITE   \n97          93      NaN   Private           CATHOLIC     WHITE   \n98          94     CANT  Medicare      NOT SPECIFIED     ASIAN   \n99          94     CANT  Medicare      NOT SPECIFIED     ASIAN   \n\n              ADMITTIME  \n0   2196-04-09 12:26:00  \n1   2153-09-03 07:15:00  \n2   2157-10-18 19:34:00  \n3   2139-06-06 16:14:00  \n4   2160-11-02 02:06:00  \n..                  ...  \n95  2177-04-23 00:08:00  \n96  2122-12-13 19:30:00  \n97  2128-03-17 17:11:00  \n98  2176-02-25 16:49:00  \n99  2176-09-02 14:22:00  \n\n[100 rows x 6 columns]",
      "text/html": "<div>\n<style scoped>\n    .dataframe tbody tr th:only-of-type {\n        vertical-align: middle;\n    }\n\n    .dataframe tbody tr th {\n        vertical-align: top;\n    }\n\n    .dataframe thead th {\n        text-align: right;\n    }\n</style>\n<table border=\"1\" class=\"dataframe\">\n  <thead>\n    <tr style=\"text-align: right;\">\n      <th></th>\n      <th>SUBJECT_ID</th>\n      <th>LANGUAGE</th>\n      <th>INSURANCE</th>\n      <th>RELIGION</th>\n      <th>ETHNICITY</th>\n      <th>ADMITTIME</th>\n    </tr>\n  </thead>\n  <tbody>\n    <tr>\n      <th>0</th>\n      <td>22</td>\n      <td>NaN</td>\n      <td>Private</td>\n      <td>UNOBTAINABLE</td>\n      <td>WHITE</td>\n      <td>2196-04-09 12:26:00</td>\n    </tr>\n    <tr>\n      <th>1</th>\n      <td>23</td>\n      <td>NaN</td>\n      <td>Medicare</td>\n      <td>CATHOLIC</td>\n      <td>WHITE</td>\n      <td>2153-09-03 07:15:00</td>\n    </tr>\n    <tr>\n      <th>2</th>\n      <td>23</td>\n      <td>ENGL</td>\n      <td>Medicare</td>\n      <td>CATHOLIC</td>\n      <td>WHITE</td>\n      <td>2157-10-18 19:34:00</td>\n    </tr>\n    <tr>\n      <th>3</th>\n      <td>24</td>\n      <td>NaN</td>\n      <td>Private</td>\n      <td>PROTESTANT QUAKER</td>\n      <td>WHITE</td>\n      <td>2139-06-06 16:14:00</td>\n    </tr>\n    <tr>\n      <th>4</th>\n      <td>25</td>\n      <td>NaN</td>\n      <td>Private</td>\n      <td>UNOBTAINABLE</td>\n      <td>WHITE</td>\n      <td>2160-11-02 02:06:00</td>\n    </tr>\n    <tr>\n      <th>...</th>\n      <td>...</td>\n      <td>...</td>\n      <td>...</td>\n      <td>...</td>\n      <td>...</td>\n      <td>...</td>\n    </tr>\n    <tr>\n      <th>95</th>\n      <td>91</td>\n      <td>NaN</td>\n      <td>Medicare</td>\n      <td>JEWISH</td>\n      <td>WHITE</td>\n      <td>2177-04-23 00:08:00</td>\n    </tr>\n    <tr>\n      <th>96</th>\n      <td>92</td>\n      <td>NaN</td>\n      <td>Medicaid</td>\n      <td>UNOBTAINABLE</td>\n      <td>WHITE</td>\n      <td>2122-12-13 19:30:00</td>\n    </tr>\n    <tr>\n      <th>97</th>\n      <td>93</td>\n      <td>NaN</td>\n      <td>Private</td>\n      <td>CATHOLIC</td>\n      <td>WHITE</td>\n      <td>2128-03-17 17:11:00</td>\n    </tr>\n    <tr>\n      <th>98</th>\n      <td>94</td>\n      <td>CANT</td>\n      <td>Medicare</td>\n      <td>NOT SPECIFIED</td>\n      <td>ASIAN</td>\n      <td>2176-02-25 16:49:00</td>\n    </tr>\n    <tr>\n      <th>99</th>\n      <td>94</td>\n      <td>CANT</td>\n      <td>Medicare</td>\n      <td>NOT SPECIFIED</td>\n      <td>ASIAN</td>\n      <td>2176-09-02 14:22:00</td>\n    </tr>\n  </tbody>\n</table>\n<p>100 rows × 6 columns</p>\n</div>"
     },
     "execution_count": 214,
     "metadata": {},
     "output_type": "execute_result"
    }
   ],
   "source": [
    "adm.head(100)"
   ],
   "metadata": {
    "collapsed": false
   }
  },
  {
   "cell_type": "code",
   "execution_count": 215,
   "outputs": [],
   "source": [
    "patients_original = patients.copy()\n",
    "adm_original = adm.copy()"
   ],
   "metadata": {
    "collapsed": false
   }
  },
  {
   "cell_type": "code",
   "execution_count": 216,
   "outputs": [],
   "source": [
    "# merge the two tables\n",
    "adm = adm.merge(patients, how='left', on='SUBJECT_ID')"
   ],
   "metadata": {
    "collapsed": false
   }
  },
  {
   "cell_type": "code",
   "execution_count": 217,
   "outputs": [
    {
     "name": "stdout",
     "output_type": "stream",
     "text": [
      "Original Religion Values:\n",
      "CATHOLIC                  20606\n",
      "NOT SPECIFIED             11753\n",
      "UNOBTAINABLE               8269\n",
      "PROTESTANT QUAKER          7134\n",
      "JEWISH                     5314\n",
      "OTHER                      2696\n",
      "EPISCOPALIAN                774\n",
      "GREEK ORTHODOX              459\n",
      "CHRISTIAN SCIENTIST         429\n",
      "BUDDHIST                    267\n",
      "MUSLIM                      225\n",
      "JEHOVAH'S WITNESS           139\n",
      "UNITARIAN-UNIVERSALIST      124\n",
      "HINDU                       113\n",
      "ROMANIAN EAST. ORTH          83\n",
      "7TH DAY ADVENTIST            81\n",
      "BAPTIST                      28\n",
      "HEBREW                       16\n",
      "METHODIST                     7\n",
      "LUTHERAN                      1\n",
      "Name: RELIGION, dtype: int64\n",
      "Binarized Religion Values:\n",
      "1    50345\n",
      "0     8631\n",
      "Name: RELIGION, dtype: int64\n"
     ]
    }
   ],
   "source": [
    "# preprocess religion to christian (majority religion) vs. non-christian\n",
    "# unknown values get the majority class\n",
    "print(\"Original Religion Values:\")\n",
    "print(adm.RELIGION.value_counts())\n",
    "adm.RELIGION = adm.RELIGION.apply(lambda religion: get_religion_category(religion))\n",
    "print(\"Binarized Religion Values:\")\n",
    "print(adm.RELIGION.value_counts())"
   ],
   "metadata": {
    "collapsed": false
   }
  },
  {
   "cell_type": "code",
   "execution_count": 218,
   "outputs": [
    {
     "name": "stdout",
     "output_type": "stream",
     "text": [
      "Original Language Values:\n",
      "ENGL    29086\n",
      "SPAN     1083\n",
      "RUSS      790\n",
      "PTUN      628\n",
      "CANT      413\n",
      "        ...  \n",
      "* FU        1\n",
      "*SPA        1\n",
      "*RUS        1\n",
      "*ROM        1\n",
      "*TAM        1\n",
      "Name: LANGUAGE, Length: 75, dtype: int64\n",
      "Binarized Language Values:\n",
      "1    54418\n",
      "0     4558\n",
      "Name: LANGUAGE, dtype: int64\n"
     ]
    }
   ],
   "source": [
    "# preprocess language to english (majority speaking) vs. non-english\n",
    "# unknown values get the majority class\n",
    "print(\"Original Language Values:\")\n",
    "print(adm.LANGUAGE.value_counts())\n",
    "adm.LANGUAGE =adm.LANGUAGE.apply(lambda lang: get_language_category(lang))\n",
    "print(\"Binarized Language Values:\")\n",
    "print(adm.LANGUAGE.value_counts())"
   ],
   "metadata": {
    "collapsed": false
   }
  },
  {
   "cell_type": "code",
   "execution_count": 219,
   "outputs": [
    {
     "name": "stdout",
     "output_type": "stream",
     "text": [
      "Original Age Values:\n",
      "90    10726\n",
      "78     1139\n",
      "77     1115\n",
      "69     1096\n",
      "76     1086\n",
      "      ...  \n",
      "17       69\n",
      "16       23\n",
      "15        8\n",
      "14        1\n",
      "89        1\n",
      "Name: AGE, Length: 77, dtype: int64\n",
      "Binarized Age Values:\n",
      "0    34156\n",
      "1    24820\n",
      "Name: AGE, dtype: int64\n"
     ]
    },
    {
     "data": {
      "text/plain": "<Figure size 640x480 with 1 Axes>",
      "image/png": "[encoded data removed]"
     },
     "metadata": {},
     "output_type": "display_data"
    }
   ],
   "source": [
    "# preprocess age to 65+ (minority) vs younger\n",
    "adm = get_age(adm)\n",
    "plt.hist(adm.AGE)\n",
    "print(\"Original Age Values:\")\n",
    "print(adm.AGE.value_counts())\n",
    "adm.AGE =adm.AGE.apply(lambda age: get_age_category(age))\n",
    "print(\"Binarized Age Values:\")\n",
    "print(adm.AGE.value_counts())"
   ],
   "metadata": {
    "collapsed": false
   }
  },
  {
   "cell_type": "code",
   "execution_count": 220,
   "outputs": [
    {
     "name": "stdout",
     "output_type": "stream",
     "text": [
      "Original Insurance Values:\n",
      "Medicare      28215\n",
      "Private       22582\n",
      "Medicaid       5785\n",
      "Government     1783\n",
      "Self Pay        611\n",
      "Name: INSURANCE, dtype: int64\n",
      "Binarized Insurance Values:\n",
      "1    58365\n",
      "0      611\n",
      "Name: INSURANCE, dtype: int64\n"
     ]
    }
   ],
   "source": [
    "print(\"Original Insurance Values:\")\n",
    "print(adm.INSURANCE.value_counts())\n",
    "adm.INSURANCE =adm.INSURANCE.apply(lambda insurance: get_insurance_category(insurance))\n",
    "print(\"Binarized Insurance Values:\")\n",
    "print(adm.INSURANCE.value_counts())"
   ],
   "metadata": {
    "collapsed": false
   }
  },
  {
   "cell_type": "code",
   "execution_count": 221,
   "outputs": [
    {
     "name": "stdout",
     "output_type": "stream",
     "text": [
      "Original Ethnicity Values:\n",
      "WHITE                                                       40996\n",
      "BLACK/AFRICAN AMERICAN                                       5440\n",
      "UNKNOWN/NOT SPECIFIED                                        4523\n",
      "HISPANIC OR LATINO                                           1696\n",
      "OTHER                                                        1512\n",
      "ASIAN                                                        1509\n",
      "UNABLE TO OBTAIN                                              814\n",
      "PATIENT DECLINED TO ANSWER                                    559\n",
      "ASIAN - CHINESE                                               277\n",
      "HISPANIC/LATINO - PUERTO RICAN                                232\n",
      "BLACK/CAPE VERDEAN                                            200\n",
      "WHITE - RUSSIAN                                               164\n",
      "MULTI RACE ETHNICITY                                          130\n",
      "BLACK/HAITIAN                                                 101\n",
      "ASIAN - ASIAN INDIAN                                           85\n",
      "WHITE - OTHER EUROPEAN                                         81\n",
      "HISPANIC/LATINO - DOMINICAN                                    78\n",
      "PORTUGUESE                                                     61\n",
      "WHITE - BRAZILIAN                                              59\n",
      "ASIAN - VIETNAMESE                                             53\n",
      "AMERICAN INDIAN/ALASKA NATIVE                                  51\n",
      "BLACK/AFRICAN                                                  44\n",
      "MIDDLE EASTERN                                                 43\n",
      "HISPANIC/LATINO - GUATEMALAN                                   40\n",
      "WHITE - EASTERN EUROPEAN                                       25\n",
      "ASIAN - FILIPINO                                               25\n",
      "HISPANIC/LATINO - CUBAN                                        24\n",
      "HISPANIC/LATINO - SALVADORAN                                   19\n",
      "NATIVE HAWAIIAN OR OTHER PACIFIC ISLANDER                      18\n",
      "ASIAN - OTHER                                                  17\n",
      "ASIAN - CAMBODIAN                                              17\n",
      "ASIAN - KOREAN                                                 13\n",
      "HISPANIC/LATINO - CENTRAL AMERICAN (OTHER)                     13\n",
      "HISPANIC/LATINO - MEXICAN                                      13\n",
      "HISPANIC/LATINO - COLOMBIAN                                     9\n",
      "CARIBBEAN ISLAND                                                9\n",
      "SOUTH AMERICAN                                                  8\n",
      "ASIAN - JAPANESE                                                7\n",
      "ASIAN - THAI                                                    4\n",
      "HISPANIC/LATINO - HONDURAN                                      4\n",
      "AMERICAN INDIAN/ALASKA NATIVE FEDERALLY RECOGNIZED TRIBE        3\n",
      "Name: ETHNICITY, dtype: int64\n",
      "Binarized Ethnicity Values:\n",
      "1    41325\n",
      "0    17651\n",
      "Name: ETHNICITY, dtype: int64\n"
     ]
    }
   ],
   "source": [
    "print(\"Original Ethnicity Values:\")\n",
    "print(adm.ETHNICITY.value_counts())\n",
    "adm.ETHNICITY =adm.ETHNICITY.apply(lambda ethnicity: get_ethnicity_category(ethnicity))\n",
    "print(\"Binarized Ethnicity Values:\")\n",
    "print(adm.ETHNICITY.value_counts())"
   ],
   "metadata": {
    "collapsed": false
   }
  },
  {
   "cell_type": "code",
   "execution_count": 222,
   "outputs": [],
   "source": [
    "adm.GENDER = adm.GENDER.apply(lambda gender: 0 if gender == \"F\" else 1)"
   ],
   "metadata": {
    "collapsed": false
   }
  },
  {
   "cell_type": "code",
   "execution_count": 223,
   "outputs": [
    {
     "name": "stdout",
     "output_type": "stream",
     "text": [
      "Records w/ duplicates per user: 58976\n",
      "Records w/0 duplicates per user: 46520\n"
     ]
    }
   ],
   "source": [
    "adm.drop(['ADMITTIME', 'DOB'], axis=1, inplace=True)\n",
    "print(\"Records w/ duplicates per user: {}\".format(adm.shape[0]))\n",
    "adm.drop_duplicates(subset=['SUBJECT_ID'], keep='last', inplace=True)  # keep the latest demographics per user\n",
    "print(\"Records w/0 duplicates per user: {}\".format(adm.shape[0]))"
   ],
   "metadata": {
    "collapsed": false
   }
  },
  {
   "cell_type": "code",
   "execution_count": 224,
   "outputs": [
    {
     "data": {
      "text/plain": "     SUBJECT_ID  LANGUAGE  INSURANCE  RELIGION  ETHNICITY  GENDER  AGE\n0            22         1          1         1          1       0    1\n2            23         1          1         1          1       1    0\n3            24         1          1         1          1       1    1\n4            25         1          1         1          1       1    1\n5            26         1          1         1          0       1    0\n..          ...       ...        ...       ...        ...     ...  ...\n116         107         1          1         1          0       1    0\n117         108         1          1         1          1       1    0\n131         125         0          1         1          0       0    1\n132         126         1          1         1          1       0    0\n133         127         1          1         1          1       0    1\n\n[100 rows x 7 columns]",
      "text/html": "<div>\n<style scoped>\n    .dataframe tbody tr th:only-of-type {\n        vertical-align: middle;\n    }\n\n    .dataframe tbody tr th {\n        vertical-align: top;\n    }\n\n    .dataframe thead th {\n        text-align: right;\n    }\n</style>\n<table border=\"1\" class=\"dataframe\">\n  <thead>\n    <tr style=\"text-align: right;\">\n      <th></th>\n      <th>SUBJECT_ID</th>\n      <th>LANGUAGE</th>\n      <th>INSURANCE</th>\n      <th>RELIGION</th>\n      <th>ETHNICITY</th>\n      <th>GENDER</th>\n      <th>AGE</th>\n    </tr>\n  </thead>\n  <tbody>\n    <tr>\n      <th>0</th>\n      <td>22</td>\n      <td>1</td>\n      <td>1</td>\n      <td>1</td>\n      <td>1</td>\n      <td>0</td>\n      <td>1</td>\n    </tr>\n    <tr>\n      <th>2</th>\n      <td>23</td>\n      <td>1</td>\n      <td>1</td>\n      <td>1</td>\n      <td>1</td>\n      <td>1</td>\n      <td>0</td>\n    </tr>\n    <tr>\n      <th>3</th>\n      <td>24</td>\n      <td>1</td>\n      <td>1</td>\n      <td>1</td>\n      <td>1</td>\n      <td>1</td>\n      <td>1</td>\n    </tr>\n    <tr>\n      <th>4</th>\n      <td>25</td>\n      <td>1</td>\n      <td>1</td>\n      <td>1</td>\n      <td>1</td>\n      <td>1</td>\n      <td>1</td>\n    </tr>\n    <tr>\n      <th>5</th>\n      <td>26</td>\n      <td>1</td>\n      <td>1</td>\n      <td>1</td>\n      <td>0</td>\n      <td>1</td>\n      <td>0</td>\n    </tr>\n    <tr>\n      <th>...</th>\n      <td>...</td>\n      <td>...</td>\n      <td>...</td>\n      <td>...</td>\n      <td>...</td>\n      <td>...</td>\n      <td>...</td>\n    </tr>\n    <tr>\n      <th>116</th>\n      <td>107</td>\n      <td>1</td>\n      <td>1</td>\n      <td>1</td>\n      <td>0</td>\n      <td>1</td>\n      <td>0</td>\n    </tr>\n    <tr>\n      <th>117</th>\n      <td>108</td>\n      <td>1</td>\n      <td>1</td>\n      <td>1</td>\n      <td>1</td>\n      <td>1</td>\n      <td>0</td>\n    </tr>\n    <tr>\n      <th>131</th>\n      <td>125</td>\n      <td>0</td>\n      <td>1</td>\n      <td>1</td>\n      <td>0</td>\n      <td>0</td>\n      <td>1</td>\n    </tr>\n    <tr>\n      <th>132</th>\n      <td>126</td>\n      <td>1</td>\n      <td>1</td>\n      <td>1</td>\n      <td>1</td>\n      <td>0</td>\n      <td>0</td>\n    </tr>\n    <tr>\n      <th>133</th>\n      <td>127</td>\n      <td>1</td>\n      <td>1</td>\n      <td>1</td>\n      <td>1</td>\n      <td>0</td>\n      <td>1</td>\n    </tr>\n  </tbody>\n</table>\n<p>100 rows × 7 columns</p>\n</div>"
     },
     "execution_count": 224,
     "metadata": {},
     "output_type": "execute_result"
    }
   ],
   "source": [
    "adm.head(100)"
   ],
   "metadata": {
    "collapsed": false
   }
  },
  {
   "cell_type": "code",
   "execution_count": 225,
   "outputs": [
    {
     "name": "stdout",
     "output_type": "stream",
     "text": [
      "Demographics file saved at: C:\\Users\\Sofia\\PycharmProjects\\mimic3-benchmarks\\data\\DEMOGRAPHICS.csv\n"
     ]
    }
   ],
   "source": [
    "adm.to_csv(os.path.join(mimic3_path, 'DEMOGRAPHICS.csv'), index=False)\n",
    "print(\"Demographics file saved at: {}\".format(os.path.join(mimic3_path, 'DEMOGRAPHICS.csv')))"
   ],
   "metadata": {
    "collapsed": false
   }
  }
 ],
 "metadata": {
  "kernelspec": {
   "display_name": "Python 3",
   "language": "python",
   "name": "python3"
  },
  "language_info": {
   "codemirror_mode": {
    "name": "ipython",
    "version": 2
   },
   "file_extension": ".py",
   "mimetype": "text/x-python",
   "name": "python",
   "nbconvert_exporter": "python",
   "pygments_lexer": "ipython2",
   "version": "2.7.6"
  }
 },
 "nbformat": 4,
 "nbformat_minor": 0
}
