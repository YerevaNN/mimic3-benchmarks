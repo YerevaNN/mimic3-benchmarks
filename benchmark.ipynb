{
 "cells": [
  {
   "cell_type": "code",
   "execution_count": 1,
   "metadata": {
    "scrolled": true
   },
   "outputs": [
    {
     "name": "stderr",
     "output_type": "stream",
     "text": [
      "Using TensorFlow backend.\n",
      "/home/dileep/anaconda3/envs/tf14/lib/python3.7/site-packages/tensorflow/python/framework/dtypes.py:516: FutureWarning: Passing (type, 1) or '1type' as a synonym of type is deprecated; in a future version of numpy, it will be understood as (type, (1,)) / '(1,)type'.\n",
      "  _np_qint8 = np.dtype([(\"qint8\", np.int8, 1)])\n",
      "/home/dileep/anaconda3/envs/tf14/lib/python3.7/site-packages/tensorflow/python/framework/dtypes.py:517: FutureWarning: Passing (type, 1) or '1type' as a synonym of type is deprecated; in a future version of numpy, it will be understood as (type, (1,)) / '(1,)type'.\n",
      "  _np_quint8 = np.dtype([(\"quint8\", np.uint8, 1)])\n",
      "/home/dileep/anaconda3/envs/tf14/lib/python3.7/site-packages/tensorflow/python/framework/dtypes.py:518: FutureWarning: Passing (type, 1) or '1type' as a synonym of type is deprecated; in a future version of numpy, it will be understood as (type, (1,)) / '(1,)type'.\n",
      "  _np_qint16 = np.dtype([(\"qint16\", np.int16, 1)])\n",
      "/home/dileep/anaconda3/envs/tf14/lib/python3.7/site-packages/tensorflow/python/framework/dtypes.py:519: FutureWarning: Passing (type, 1) or '1type' as a synonym of type is deprecated; in a future version of numpy, it will be understood as (type, (1,)) / '(1,)type'.\n",
      "  _np_quint16 = np.dtype([(\"quint16\", np.uint16, 1)])\n",
      "/home/dileep/anaconda3/envs/tf14/lib/python3.7/site-packages/tensorflow/python/framework/dtypes.py:520: FutureWarning: Passing (type, 1) or '1type' as a synonym of type is deprecated; in a future version of numpy, it will be understood as (type, (1,)) / '(1,)type'.\n",
      "  _np_qint32 = np.dtype([(\"qint32\", np.int32, 1)])\n",
      "/home/dileep/anaconda3/envs/tf14/lib/python3.7/site-packages/tensorflow/python/framework/dtypes.py:525: FutureWarning: Passing (type, 1) or '1type' as a synonym of type is deprecated; in a future version of numpy, it will be understood as (type, (1,)) / '(1,)type'.\n",
      "  np_resource = np.dtype([(\"resource\", np.ubyte, 1)])\n",
      "/home/dileep/anaconda3/envs/tf14/lib/python3.7/site-packages/tensorboard/compat/tensorflow_stub/dtypes.py:541: FutureWarning: Passing (type, 1) or '1type' as a synonym of type is deprecated; in a future version of numpy, it will be understood as (type, (1,)) / '(1,)type'.\n",
      "  _np_qint8 = np.dtype([(\"qint8\", np.int8, 1)])\n",
      "/home/dileep/anaconda3/envs/tf14/lib/python3.7/site-packages/tensorboard/compat/tensorflow_stub/dtypes.py:542: FutureWarning: Passing (type, 1) or '1type' as a synonym of type is deprecated; in a future version of numpy, it will be understood as (type, (1,)) / '(1,)type'.\n",
      "  _np_quint8 = np.dtype([(\"quint8\", np.uint8, 1)])\n",
      "/home/dileep/anaconda3/envs/tf14/lib/python3.7/site-packages/tensorboard/compat/tensorflow_stub/dtypes.py:543: FutureWarning: Passing (type, 1) or '1type' as a synonym of type is deprecated; in a future version of numpy, it will be understood as (type, (1,)) / '(1,)type'.\n",
      "  _np_qint16 = np.dtype([(\"qint16\", np.int16, 1)])\n",
      "/home/dileep/anaconda3/envs/tf14/lib/python3.7/site-packages/tensorboard/compat/tensorflow_stub/dtypes.py:544: FutureWarning: Passing (type, 1) or '1type' as a synonym of type is deprecated; in a future version of numpy, it will be understood as (type, (1,)) / '(1,)type'.\n",
      "  _np_quint16 = np.dtype([(\"quint16\", np.uint16, 1)])\n",
      "/home/dileep/anaconda3/envs/tf14/lib/python3.7/site-packages/tensorboard/compat/tensorflow_stub/dtypes.py:545: FutureWarning: Passing (type, 1) or '1type' as a synonym of type is deprecated; in a future version of numpy, it will be understood as (type, (1,)) / '(1,)type'.\n",
      "  _np_qint32 = np.dtype([(\"qint32\", np.int32, 1)])\n",
      "/home/dileep/anaconda3/envs/tf14/lib/python3.7/site-packages/tensorboard/compat/tensorflow_stub/dtypes.py:550: FutureWarning: Passing (type, 1) or '1type' as a synonym of type is deprecated; in a future version of numpy, it will be understood as (type, (1,)) / '(1,)type'.\n",
      "  np_resource = np.dtype([(\"resource\", np.ubyte, 1)])\n"
     ]
    }
   ],
   "source": [
    "import sys, os, imp\n",
    "\n",
    "ROOT_DIR = '/home/dileep/github_repos/mimic3-benchmarks'\n",
    "\n",
    "from mimic3benchmark.readers import MultitaskReader\n",
    "from mimic3models.preprocessing import Discretizer, Normalizer\n",
    "\n",
    "args_dict = {\n",
    "    'target_repl_coef': 0.0,\n",
    "    'partition': 'custom',\n",
    "    'ihm_C': 0.2,\n",
    "    'los_C': 1.5,\n",
    "    'pheno_C': 1.0,\n",
    "    'decomp_C': 1.0,\n",
    "    'data': '/home/dileep/github_repos/mimic3-benchmarks/data/multitask/train',\n",
    "    'output_dir': '.',\n",
    "    'mode': 'train',\n",
    "    'timestep': 1,\n",
    "    'network': 'mimic3models/keras_models/multitask_lstm.py',\n",
    "    'dim': 512,\n",
    "    'batch_size': 16,\n",
    "    'dropout': 0.3\n",
    "}\n",
    "\n",
    "target_repl_coef = args_dict['target_repl_coef']\n",
    "partition = args_dict['partition']\n",
    "ihm_C = args_dict['ihm_C']\n",
    "los_C = args_dict['los_C']\n",
    "pheno_C = args_dict['pheno_C']\n",
    "decomp_C = args_dict['decomp_C']\n",
    "data = args_dict['data']\n",
    "output_dir = args_dict['output_dir']\n",
    "mode = args_dict['mode']\n",
    "timestep = args_dict['timestep']\n",
    "\n",
    "# Preparing reader\n",
    "dataset_dir = os.path.join(ROOT_DIR, 'data/multitask/train')\n",
    "listfile_dir = os.path.join(ROOT_DIR, 'data/multitask/train_listfile.csv')\n",
    "\n",
    "reader = MultitaskReader(dataset_dir=dataset_dir, listfile=listfile_dir)\n",
    "\n",
    "# Preparing discretizer\n",
    "discretizer = Discretizer(timestep=timestep,\n",
    "                          store_masks=True,\n",
    "                          impute_strategy='previous',\n",
    "                          start_time='zero')\n",
    "\n",
    "discretizer_header = discretizer.transform(reader.read_example(0)[\"X\"])[1].split(',')\n",
    "cont_channels = [i for (i, x) in enumerate(discretizer_header) if x.find(\"->\") == -1]\n",
    "\n",
    "# Preparing normalizer\n",
    "normalizer = Normalizer(fields=cont_channels)\n",
    "\n",
    "normalizer_state = os.path.join(ROOT_DIR, 'mimic3models/multitask/mult_ts1.0.input_str:previous.start_time:zero.normalizer')\n",
    "normalizer.load_params(normalizer_state)\n",
    "\n",
    "# Loading module\n",
    "network = 'mimic3models/keras_models/multitask_lstm.py'\n",
    "model_module = imp.load_source(os.path.basename(network), network)\n",
    "\n",
    "target_repl = (target_repl_coef > 0.0 and mode == 'train')\n",
    "\n",
    "args_dict['header'] = discretizer_header,\n",
    "args_dict['ihm_pos'] = int(48.0/args_dict['timestep'] - 1e-6),\n",
    "args_dict['target_repl'] = target_repl"
   ]
  },
  {
   "cell_type": "code",
   "execution_count": 3,
   "metadata": {},
   "outputs": [
    {
     "ename": "TypeError",
     "evalue": "__init__() missing 2 required positional arguments: 'batch_norm' and 'rec_dropout'",
     "output_type": "error",
     "traceback": [
      "\u001b[0;31m---------------------------------------------------------------------------\u001b[0m",
      "\u001b[0;31mTypeError\u001b[0m                                 Traceback (most recent call last)",
      "\u001b[0;32m<ipython-input-3-ef8dbff7a613>\u001b[0m in \u001b[0;36m<module>\u001b[0;34m\u001b[0m\n\u001b[0;32m----> 1\u001b[0;31m \u001b[0mmodel\u001b[0m \u001b[0;34m=\u001b[0m \u001b[0mmodel_module\u001b[0m\u001b[0;34m.\u001b[0m\u001b[0mNetwork\u001b[0m\u001b[0;34m(\u001b[0m\u001b[0;34m**\u001b[0m\u001b[0margs_dict\u001b[0m\u001b[0;34m)\u001b[0m\u001b[0;34m\u001b[0m\u001b[0;34m\u001b[0m\u001b[0m\n\u001b[0m",
      "\u001b[0;31mTypeError\u001b[0m: __init__() missing 2 required positional arguments: 'batch_norm' and 'rec_dropout'"
     ]
    }
   ],
   "source": [
    "model = model_module.Network(**args_dict)"
   ]
  },
  {
   "cell_type": "code",
   "execution_count": null,
   "metadata": {},
   "outputs": [],
   "source": []
  }
 ],
 "metadata": {
  "kernelspec": {
   "display_name": "Python 3",
   "language": "python",
   "name": "python3"
  },
  "language_info": {
   "codemirror_mode": {
    "name": "ipython",
    "version": 3
   },
   "file_extension": ".py",
   "mimetype": "text/x-python",
   "name": "python",
   "nbconvert_exporter": "python",
   "pygments_lexer": "ipython3",
   "version": "3.7.9"
  }
 },
 "nbformat": 4,
 "nbformat_minor": 4
}
